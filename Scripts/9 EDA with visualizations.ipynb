{
 "cells": [
  {
   "cell_type": "markdown",
   "id": "156a26d2-0c0e-4002-a843-a8eb49f20359",
   "metadata": {},
   "source": [
    "# Import libraries"
   ]
  },
  {
   "cell_type": "code",
   "execution_count": 4,
   "id": "7531888d-6763-4504-9d20-600a020df7b8",
   "metadata": {},
   "outputs": [],
   "source": [
    "import pandas as pd\n",
    "import numpy as np\n",
    "import os\n",
    "import matplotlib.pyplot as plt\n",
    "import seaborn as sns\n",
    "import scipy"
   ]
  },
  {
   "cell_type": "markdown",
   "id": "284a25d4-3f35-4159-836a-dd5cc95e2063",
   "metadata": {},
   "source": [
    "# Import data"
   ]
  },
  {
   "cell_type": "code",
   "execution_count": 6,
   "id": "7258a3ad-63ed-42f7-b131-401b534f51cd",
   "metadata": {},
   "outputs": [],
   "source": [
    "path = r'/Users/zoegyftopoulos/Documents/Data Projects/07-2024 Instacart Basket Analysis'"
   ]
  },
  {
   "cell_type": "code",
   "execution_count": 8,
   "id": "dabb5b4d-7a94-4d35-a515-8032d585b60d",
   "metadata": {},
   "outputs": [],
   "source": [
    "df_instacart = pd.read_pickle(os.path.join(path, '02 Data', 'Prepared data', 'orders_products_customers.pkl'))"
   ]
  },
  {
   "cell_type": "code",
   "execution_count": 7,
   "id": "e10d58cb-fdcb-4e37-92e6-8074533fb439",
   "metadata": {},
   "outputs": [
    {
     "data": {
      "text/plain": [
       "Index(['order_id', 'user_id', 'eval_set', 'order_number', 'orders_day_of_week',\n",
       "       'order_time', 'days_since_prior_order', 'product_id',\n",
       "       'add_to_cart_order', 'reordered', 'product_name', 'aisle_id',\n",
       "       'department_id', 'prices', 'price_range_loc', 'busiest_day',\n",
       "       'busiest_days', 'busiest_period_of_day', 'max_order', 'loyalty_flag',\n",
       "       'average_price', 'spending_flag', 'median_days_betw_orders',\n",
       "       'order_frequency_flag', 'first_name', 'surname', 'gender', 'state',\n",
       "       'age', 'date_joined', 'n_dependants', 'fam_status', 'income', '_merge'],\n",
       "      dtype='object')"
      ]
     },
     "execution_count": 7,
     "metadata": {},
     "output_type": "execute_result"
    }
   ],
   "source": [
    "df_instacart.columns"
   ]
  },
  {
   "cell_type": "code",
   "execution_count": 8,
   "id": "ccd46631-feb4-4ce4-bf05-2b536b9a988c",
   "metadata": {},
   "outputs": [],
   "source": [
    "# Drop columns with personally identifiable information\n",
    "df = df_instacart.drop(columns = ['first_name', 'surname'])"
   ]
  },
  {
   "cell_type": "code",
   "execution_count": 9,
   "id": "96764580-e9a6-483e-845b-18e6630ee9ff",
   "metadata": {},
   "outputs": [
    {
     "data": {
      "text/plain": [
       "Index(['order_id', 'user_id', 'eval_set', 'order_number', 'orders_day_of_week',\n",
       "       'order_time', 'days_since_prior_order', 'product_id',\n",
       "       'add_to_cart_order', 'reordered', 'product_name', 'aisle_id',\n",
       "       'department_id', 'prices', 'price_range_loc', 'busiest_day',\n",
       "       'busiest_days', 'busiest_period_of_day', 'max_order', 'loyalty_flag',\n",
       "       'average_price', 'spending_flag', 'median_days_betw_orders',\n",
       "       'order_frequency_flag', 'gender', 'state', 'age', 'date_joined',\n",
       "       'n_dependants', 'fam_status', 'income', '_merge'],\n",
       "      dtype='object')"
      ]
     },
     "execution_count": 9,
     "metadata": {},
     "output_type": "execute_result"
    }
   ],
   "source": [
    "df.columns"
   ]
  },
  {
   "cell_type": "markdown",
   "id": "ae625fa7-6211-4fac-9221-ef96c788bcea",
   "metadata": {},
   "source": [
    "## Comparing customer behavior in different geographic areas"
   ]
  },
  {
   "cell_type": "markdown",
   "id": "89b220be-7db8-4186-b9bc-7cc0a166dd93",
   "metadata": {},
   "source": [
    "### Create a regional segmentation"
   ]
  },
  {
   "cell_type": "code",
   "execution_count": 12,
   "id": "122d382d-4d12-4c91-bd39-d7ca82aeb993",
   "metadata": {},
   "outputs": [],
   "source": [
    "# Create lists to organize states by region\n",
    "northeast = ['Connecticut', 'Maine', 'Massachusetts', 'New Hampshire', 'New Jersey', 'New York', 'Pennsylvania', 'Rhode Island', 'Vermont' ]"
   ]
  },
  {
   "cell_type": "code",
   "execution_count": 13,
   "id": "81b2feb7-bf8c-4844-939c-5560fb339b3f",
   "metadata": {},
   "outputs": [],
   "source": [
    "midwest = ['Wisconsin', 'Michigan', 'Illinois', 'Indiana', 'Ohio', 'North Dakota', 'South Dakota', 'Nebraska', 'Kansas', 'Minnesota', 'Iowa', 'Missouri']"
   ]
  },
  {
   "cell_type": "code",
   "execution_count": 14,
   "id": "57b85701-63a3-405d-889b-454356129e3e",
   "metadata": {},
   "outputs": [],
   "source": [
    "south = ['Delaware', 'Maryland', 'District of Columbia', 'Virginia', 'West Virginia', 'North Carolina', 'South Carolina', 'Georgia', 'Florida', 'Kentucky', 'Tennessee', 'Mississippi', 'Alabama', 'Oklahoma', 'Texas', 'Arkansas', 'Louisiana']"
   ]
  },
  {
   "cell_type": "code",
   "execution_count": 15,
   "id": "909560b7-a2d4-494d-85f1-9671879d9270",
   "metadata": {},
   "outputs": [],
   "source": [
    "west = ['Idaho', 'Montana', 'Wyoming', 'Nevada', 'Utah', 'Colorado', 'Arizona', 'New Mexico', 'Alaska', 'Washington', 'Oregon', 'California', 'Hawaii']"
   ]
  },
  {
   "cell_type": "code",
   "execution_count": 16,
   "id": "19075fac-75b1-4705-86d0-185fb4f19db4",
   "metadata": {},
   "outputs": [],
   "source": [
    "# Use loc() function to create a new region column assigning states to regions\n",
    "df.loc[df['state'].isin(northeast), 'region'] = 'Northeast'\n",
    "df.loc[df['state'].isin(midwest), 'region'] = 'Midwest' \n",
    "df.loc[df['state'].isin(south), 'region'] = 'South'\n",
    "df.loc[df['state'].isin(west), 'region'] = 'West'"
   ]
  },
  {
   "cell_type": "code",
   "execution_count": 17,
   "id": "e3a4667c-0073-43c0-b589-b828949819ec",
   "metadata": {},
   "outputs": [
    {
     "data": {
      "text/plain": [
       "32434212"
      ]
     },
     "execution_count": 17,
     "metadata": {},
     "output_type": "execute_result"
    }
   ],
   "source": [
    "len(df['region'])"
   ]
  },
  {
   "cell_type": "code",
   "execution_count": 18,
   "id": "6f2999b2-bc54-482b-9df9-3c90ed12ddea",
   "metadata": {},
   "outputs": [
    {
     "data": {
      "text/plain": [
       "32434212"
      ]
     },
     "execution_count": 18,
     "metadata": {},
     "output_type": "execute_result"
    }
   ],
   "source": [
    "len(df)"
   ]
  },
  {
   "cell_type": "code",
   "execution_count": 19,
   "id": "31314633-20f2-4de0-a0f2-6e219df1fca2",
   "metadata": {},
   "outputs": [
    {
     "data": {
      "text/plain": [
       "region\n",
       "South        10801610\n",
       "West          8300445\n",
       "Midwest       7603810\n",
       "Northeast     5728347\n",
       "Name: count, dtype: int64"
      ]
     },
     "execution_count": 19,
     "metadata": {},
     "output_type": "execute_result"
    }
   ],
   "source": [
    "df['region'].value_counts(dropna = False)"
   ]
  },
  {
   "cell_type": "markdown",
   "id": "223b6600-17bb-49dc-b793-bd2f137a7052",
   "metadata": {},
   "source": [
    "### Determine whether there’s a difference in spending habits between the different U.S. regions"
   ]
  },
  {
   "cell_type": "code",
   "execution_count": 21,
   "id": "e3cf9fd4-bbc5-44e0-ba5f-051fb75f6e30",
   "metadata": {},
   "outputs": [],
   "source": [
    "region_spending = pd.crosstab(df['region'], df['spending_flag'], dropna = False)"
   ]
  },
  {
   "cell_type": "code",
   "execution_count": 22,
   "id": "d5dda6ea-a7f9-4be3-9324-33e2b47b0ecc",
   "metadata": {},
   "outputs": [
    {
     "data": {
      "text/html": [
       "<div>\n",
       "<style scoped>\n",
       "    .dataframe tbody tr th:only-of-type {\n",
       "        vertical-align: middle;\n",
       "    }\n",
       "\n",
       "    .dataframe tbody tr th {\n",
       "        vertical-align: top;\n",
       "    }\n",
       "\n",
       "    .dataframe thead th {\n",
       "        text-align: right;\n",
       "    }\n",
       "</style>\n",
       "<table border=\"1\" class=\"dataframe\">\n",
       "  <thead>\n",
       "    <tr style=\"text-align: right;\">\n",
       "      <th>spending_flag</th>\n",
       "      <th>High spender</th>\n",
       "      <th>Low spender</th>\n",
       "    </tr>\n",
       "    <tr>\n",
       "      <th>region</th>\n",
       "      <th></th>\n",
       "      <th></th>\n",
       "    </tr>\n",
       "  </thead>\n",
       "  <tbody>\n",
       "    <tr>\n",
       "      <th>Midwest</th>\n",
       "      <td>156129</td>\n",
       "      <td>7447681</td>\n",
       "    </tr>\n",
       "    <tr>\n",
       "      <th>Northeast</th>\n",
       "      <td>108343</td>\n",
       "      <td>5620004</td>\n",
       "    </tr>\n",
       "    <tr>\n",
       "      <th>South</th>\n",
       "      <td>210182</td>\n",
       "      <td>10591428</td>\n",
       "    </tr>\n",
       "    <tr>\n",
       "      <th>West</th>\n",
       "      <td>160807</td>\n",
       "      <td>8139638</td>\n",
       "    </tr>\n",
       "  </tbody>\n",
       "</table>\n",
       "</div>"
      ],
      "text/plain": [
       "spending_flag  High spender  Low spender\n",
       "region                                  \n",
       "Midwest              156129      7447681\n",
       "Northeast            108343      5620004\n",
       "South                210182     10591428\n",
       "West                 160807      8139638"
      ]
     },
     "execution_count": 22,
     "metadata": {},
     "output_type": "execute_result"
    }
   ],
   "source": [
    "region_spending"
   ]
  },
  {
   "cell_type": "markdown",
   "id": "60d3f137-30a4-4c5d-a13d-aace40ae1928",
   "metadata": {},
   "source": [
    "## Create an exclusion flag for low-activity customers"
   ]
  },
  {
   "cell_type": "markdown",
   "id": "d0cc59f3-7a84-41e8-9145-ce38604347c5",
   "metadata": {},
   "source": [
    "### Create an exclusion flag for customers with less than 5 orders"
   ]
  },
  {
   "cell_type": "code",
   "execution_count": 25,
   "id": "f8a636db-3f84-448b-99ee-fc917db634af",
   "metadata": {},
   "outputs": [],
   "source": [
    "# Use loc() function to exclude/include flags\n",
    "df.loc[df['max_order'] < 5, 'exclusion_flag'] = 'exclude'\n",
    "df.loc[df['max_order'] >= 5, 'exclusion_flag'] = 'include'"
   ]
  },
  {
   "cell_type": "code",
   "execution_count": 26,
   "id": "29cf6d46-e561-4e73-8d3e-59cc11f8f114",
   "metadata": {},
   "outputs": [
    {
     "data": {
      "text/plain": [
       "32434212"
      ]
     },
     "execution_count": 26,
     "metadata": {},
     "output_type": "execute_result"
    }
   ],
   "source": [
    "len(df['exclusion_flag'])"
   ]
  },
  {
   "cell_type": "code",
   "execution_count": 27,
   "id": "9a40d030-7bb7-4fce-a803-daedc77f0245",
   "metadata": {},
   "outputs": [
    {
     "data": {
      "text/plain": [
       "exclusion_flag\n",
       "include    30992664\n",
       "exclude     1441548\n",
       "Name: count, dtype: int64"
      ]
     },
     "execution_count": 27,
     "metadata": {},
     "output_type": "execute_result"
    }
   ],
   "source": [
    "df['exclusion_flag'].value_counts(dropna = False)"
   ]
  },
  {
   "cell_type": "code",
   "execution_count": 28,
   "id": "4858d61e-e5dc-4b77-86ee-3f79370e7f29",
   "metadata": {},
   "outputs": [],
   "source": [
    "max_ord_exc = pd.crosstab(df['exclusion_flag'], df['max_order'], dropna = False)"
   ]
  },
  {
   "cell_type": "code",
   "execution_count": 29,
   "id": "5cfd150b-144d-4c9c-a4a9-510567f66599",
   "metadata": {},
   "outputs": [
    {
     "data": {
      "text/html": [
       "<div>\n",
       "<style scoped>\n",
       "    .dataframe tbody tr th:only-of-type {\n",
       "        vertical-align: middle;\n",
       "    }\n",
       "\n",
       "    .dataframe tbody tr th {\n",
       "        vertical-align: top;\n",
       "    }\n",
       "\n",
       "    .dataframe thead th {\n",
       "        text-align: right;\n",
       "    }\n",
       "</style>\n",
       "<table border=\"1\" class=\"dataframe\">\n",
       "  <thead>\n",
       "    <tr style=\"text-align: right;\">\n",
       "      <th>max_order</th>\n",
       "      <th>3</th>\n",
       "      <th>4</th>\n",
       "      <th>5</th>\n",
       "      <th>6</th>\n",
       "      <th>7</th>\n",
       "      <th>8</th>\n",
       "      <th>9</th>\n",
       "      <th>10</th>\n",
       "      <th>11</th>\n",
       "      <th>12</th>\n",
       "      <th>...</th>\n",
       "      <th>90</th>\n",
       "      <th>91</th>\n",
       "      <th>92</th>\n",
       "      <th>93</th>\n",
       "      <th>94</th>\n",
       "      <th>95</th>\n",
       "      <th>96</th>\n",
       "      <th>97</th>\n",
       "      <th>98</th>\n",
       "      <th>99</th>\n",
       "    </tr>\n",
       "    <tr>\n",
       "      <th>exclusion_flag</th>\n",
       "      <th></th>\n",
       "      <th></th>\n",
       "      <th></th>\n",
       "      <th></th>\n",
       "      <th></th>\n",
       "      <th></th>\n",
       "      <th></th>\n",
       "      <th></th>\n",
       "      <th></th>\n",
       "      <th></th>\n",
       "      <th></th>\n",
       "      <th></th>\n",
       "      <th></th>\n",
       "      <th></th>\n",
       "      <th></th>\n",
       "      <th></th>\n",
       "      <th></th>\n",
       "      <th></th>\n",
       "      <th></th>\n",
       "      <th></th>\n",
       "      <th></th>\n",
       "    </tr>\n",
       "  </thead>\n",
       "  <tbody>\n",
       "    <tr>\n",
       "      <th>exclude</th>\n",
       "      <td>687288</td>\n",
       "      <td>754260</td>\n",
       "      <td>0</td>\n",
       "      <td>0</td>\n",
       "      <td>0</td>\n",
       "      <td>0</td>\n",
       "      <td>0</td>\n",
       "      <td>0</td>\n",
       "      <td>0</td>\n",
       "      <td>0</td>\n",
       "      <td>...</td>\n",
       "      <td>0</td>\n",
       "      <td>0</td>\n",
       "      <td>0</td>\n",
       "      <td>0</td>\n",
       "      <td>0</td>\n",
       "      <td>0</td>\n",
       "      <td>0</td>\n",
       "      <td>0</td>\n",
       "      <td>0</td>\n",
       "      <td>0</td>\n",
       "    </tr>\n",
       "    <tr>\n",
       "      <th>include</th>\n",
       "      <td>0</td>\n",
       "      <td>0</td>\n",
       "      <td>793833</td>\n",
       "      <td>812032</td>\n",
       "      <td>804712</td>\n",
       "      <td>812641</td>\n",
       "      <td>810819</td>\n",
       "      <td>773813</td>\n",
       "      <td>770222</td>\n",
       "      <td>745122</td>\n",
       "      <td>...</td>\n",
       "      <td>48397</td>\n",
       "      <td>59401</td>\n",
       "      <td>55188</td>\n",
       "      <td>50439</td>\n",
       "      <td>52635</td>\n",
       "      <td>59894</td>\n",
       "      <td>40469</td>\n",
       "      <td>44969</td>\n",
       "      <td>44604</td>\n",
       "      <td>1172222</td>\n",
       "    </tr>\n",
       "  </tbody>\n",
       "</table>\n",
       "<p>2 rows × 97 columns</p>\n",
       "</div>"
      ],
      "text/plain": [
       "max_order           3       4       5       6       7       8       9   \\\n",
       "exclusion_flag                                                           \n",
       "exclude         687288  754260       0       0       0       0       0   \n",
       "include              0       0  793833  812032  804712  812641  810819   \n",
       "\n",
       "max_order           10      11      12  ...     90     91     92     93  \\\n",
       "exclusion_flag                          ...                               \n",
       "exclude              0       0       0  ...      0      0      0      0   \n",
       "include         773813  770222  745122  ...  48397  59401  55188  50439   \n",
       "\n",
       "max_order          94     95     96     97     98       99  \n",
       "exclusion_flag                                              \n",
       "exclude             0      0      0      0      0        0  \n",
       "include         52635  59894  40469  44969  44604  1172222  \n",
       "\n",
       "[2 rows x 97 columns]"
      ]
     },
     "execution_count": 29,
     "metadata": {},
     "output_type": "execute_result"
    }
   ],
   "source": [
    "max_ord_exc"
   ]
  },
  {
   "cell_type": "code",
   "execution_count": 30,
   "id": "42017e31-6f4b-4d04-8eac-e4662d585427",
   "metadata": {},
   "outputs": [],
   "source": [
    "# Exclude customers with less than 5 orders\n",
    "df_exc = df[df['exclusion_flag'] == 'include']"
   ]
  },
  {
   "cell_type": "code",
   "execution_count": 31,
   "id": "3a38c19e-405b-4739-ab4a-ab415ab4db2b",
   "metadata": {},
   "outputs": [
    {
     "data": {
      "text/plain": [
       "(30992664, 34)"
      ]
     },
     "execution_count": 31,
     "metadata": {},
     "output_type": "execute_result"
    }
   ],
   "source": [
    "df_exc.shape"
   ]
  },
  {
   "cell_type": "code",
   "execution_count": 32,
   "id": "5dde1e30-1ceb-4b3c-8572-6f33d0fc01e3",
   "metadata": {},
   "outputs": [],
   "source": [
    "df_exc.to_pickle(os.path.join(path, '02 Data', 'Prepared data', 'ord_prods_cust_exc.pkl'))"
   ]
  },
  {
   "cell_type": "markdown",
   "id": "7bad0cad-19e9-40ac-afb6-bf33ef10ff13",
   "metadata": {},
   "source": [
    "## Customer profiling"
   ]
  },
  {
   "cell_type": "markdown",
   "id": "2591b0d3-2054-462f-b50f-25087974a4d9",
   "metadata": {},
   "source": [
    "### Create a profiling variable based on age, income, certain goods in the “department_id” column, and number of dependents"
   ]
  },
  {
   "cell_type": "code",
   "execution_count": 35,
   "id": "a58ba3a3-d55e-401d-8247-97637fe53b11",
   "metadata": {},
   "outputs": [
    {
     "data": {
      "text/html": [
       "<div>\n",
       "<style scoped>\n",
       "    .dataframe tbody tr th:only-of-type {\n",
       "        vertical-align: middle;\n",
       "    }\n",
       "\n",
       "    .dataframe tbody tr th {\n",
       "        vertical-align: top;\n",
       "    }\n",
       "\n",
       "    .dataframe thead th {\n",
       "        text-align: right;\n",
       "    }\n",
       "</style>\n",
       "<table border=\"1\" class=\"dataframe\">\n",
       "  <thead>\n",
       "    <tr style=\"text-align: right;\">\n",
       "      <th></th>\n",
       "      <th>order_id</th>\n",
       "      <th>user_id</th>\n",
       "      <th>order_number</th>\n",
       "      <th>orders_day_of_week</th>\n",
       "      <th>order_time</th>\n",
       "      <th>days_since_prior_order</th>\n",
       "      <th>product_id</th>\n",
       "      <th>add_to_cart_order</th>\n",
       "      <th>reordered</th>\n",
       "      <th>aisle_id</th>\n",
       "      <th>department_id</th>\n",
       "      <th>prices</th>\n",
       "      <th>max_order</th>\n",
       "      <th>average_price</th>\n",
       "      <th>median_days_betw_orders</th>\n",
       "      <th>age</th>\n",
       "      <th>n_dependants</th>\n",
       "      <th>income</th>\n",
       "    </tr>\n",
       "  </thead>\n",
       "  <tbody>\n",
       "    <tr>\n",
       "      <th>count</th>\n",
       "      <td>3.099266e+07</td>\n",
       "      <td>3.099266e+07</td>\n",
       "      <td>3.099266e+07</td>\n",
       "      <td>3.099266e+07</td>\n",
       "      <td>3.099266e+07</td>\n",
       "      <td>2.932978e+07</td>\n",
       "      <td>3.099266e+07</td>\n",
       "      <td>3.099266e+07</td>\n",
       "      <td>3.099266e+07</td>\n",
       "      <td>3.099266e+07</td>\n",
       "      <td>3.099266e+07</td>\n",
       "      <td>3.099266e+07</td>\n",
       "      <td>3.099266e+07</td>\n",
       "      <td>3.099266e+07</td>\n",
       "      <td>3.099266e+07</td>\n",
       "      <td>3.099266e+07</td>\n",
       "      <td>3.099266e+07</td>\n",
       "      <td>3.099266e+07</td>\n",
       "    </tr>\n",
       "    <tr>\n",
       "      <th>mean</th>\n",
       "      <td>1.710321e+06</td>\n",
       "      <td>1.029285e+05</td>\n",
       "      <td>1.783372e+01</td>\n",
       "      <td>2.741342e+00</td>\n",
       "      <td>1.341082e+01</td>\n",
       "      <td>1.081040e+01</td>\n",
       "      <td>2.557757e+04</td>\n",
       "      <td>8.361651e+00</td>\n",
       "      <td>6.062036e-01</td>\n",
       "      <td>7.120896e+01</td>\n",
       "      <td>9.924801e+00</td>\n",
       "      <td>1.193448e+01</td>\n",
       "      <td>3.442563e+01</td>\n",
       "      <td>1.193448e+01</td>\n",
       "      <td>9.957273e+00</td>\n",
       "      <td>4.946793e+01</td>\n",
       "      <td>1.501798e+00</td>\n",
       "      <td>9.967322e+04</td>\n",
       "    </tr>\n",
       "    <tr>\n",
       "      <th>std</th>\n",
       "      <td>9.873797e+05</td>\n",
       "      <td>5.947097e+04</td>\n",
       "      <td>1.763399e+01</td>\n",
       "      <td>2.089226e+00</td>\n",
       "      <td>4.248811e+00</td>\n",
       "      <td>8.578482e+00</td>\n",
       "      <td>1.409313e+04</td>\n",
       "      <td>7.135006e+00</td>\n",
       "      <td>4.885906e-01</td>\n",
       "      <td>3.821479e+01</td>\n",
       "      <td>6.282146e+00</td>\n",
       "      <td>4.911216e+02</td>\n",
       "      <td>2.489426e+01</td>\n",
       "      <td>7.987316e+01</td>\n",
       "      <td>6.665491e+00</td>\n",
       "      <td>1.848520e+01</td>\n",
       "      <td>1.118902e+00</td>\n",
       "      <td>4.313928e+04</td>\n",
       "    </tr>\n",
       "    <tr>\n",
       "      <th>min</th>\n",
       "      <td>2.000000e+00</td>\n",
       "      <td>1.000000e+00</td>\n",
       "      <td>1.000000e+00</td>\n",
       "      <td>0.000000e+00</td>\n",
       "      <td>0.000000e+00</td>\n",
       "      <td>0.000000e+00</td>\n",
       "      <td>1.000000e+00</td>\n",
       "      <td>1.000000e+00</td>\n",
       "      <td>0.000000e+00</td>\n",
       "      <td>1.000000e+00</td>\n",
       "      <td>1.000000e+00</td>\n",
       "      <td>1.000000e+00</td>\n",
       "      <td>5.000000e+00</td>\n",
       "      <td>1.000000e+00</td>\n",
       "      <td>0.000000e+00</td>\n",
       "      <td>1.800000e+01</td>\n",
       "      <td>0.000000e+00</td>\n",
       "      <td>2.590300e+04</td>\n",
       "    </tr>\n",
       "    <tr>\n",
       "      <th>25%</th>\n",
       "      <td>8.554110e+05</td>\n",
       "      <td>5.140900e+04</td>\n",
       "      <td>5.000000e+00</td>\n",
       "      <td>1.000000e+00</td>\n",
       "      <td>1.000000e+01</td>\n",
       "      <td>5.000000e+00</td>\n",
       "      <td>1.353500e+04</td>\n",
       "      <td>3.000000e+00</td>\n",
       "      <td>0.000000e+00</td>\n",
       "      <td>3.100000e+01</td>\n",
       "      <td>4.000000e+00</td>\n",
       "      <td>4.200000e+00</td>\n",
       "      <td>1.400000e+01</td>\n",
       "      <td>7.398110e+00</td>\n",
       "      <td>6.000000e+00</td>\n",
       "      <td>3.300000e+01</td>\n",
       "      <td>1.000000e+00</td>\n",
       "      <td>6.728900e+04</td>\n",
       "    </tr>\n",
       "    <tr>\n",
       "      <th>50%</th>\n",
       "      <td>1.710404e+06</td>\n",
       "      <td>1.025850e+05</td>\n",
       "      <td>1.200000e+01</td>\n",
       "      <td>3.000000e+00</td>\n",
       "      <td>1.300000e+01</td>\n",
       "      <td>7.000000e+00</td>\n",
       "      <td>2.525600e+04</td>\n",
       "      <td>6.000000e+00</td>\n",
       "      <td>1.000000e+00</td>\n",
       "      <td>8.300000e+01</td>\n",
       "      <td>9.000000e+00</td>\n",
       "      <td>7.400000e+00</td>\n",
       "      <td>2.800000e+01</td>\n",
       "      <td>7.829827e+00</td>\n",
       "      <td>7.000000e+00</td>\n",
       "      <td>4.900000e+01</td>\n",
       "      <td>2.000000e+00</td>\n",
       "      <td>9.676500e+04</td>\n",
       "    </tr>\n",
       "    <tr>\n",
       "      <th>75%</th>\n",
       "      <td>2.565216e+06</td>\n",
       "      <td>1.543880e+05</td>\n",
       "      <td>2.500000e+01</td>\n",
       "      <td>5.000000e+00</td>\n",
       "      <td>1.600000e+01</td>\n",
       "      <td>1.400000e+01</td>\n",
       "      <td>3.793100e+04</td>\n",
       "      <td>1.100000e+01</td>\n",
       "      <td>1.000000e+00</td>\n",
       "      <td>1.070000e+02</td>\n",
       "      <td>1.600000e+01</td>\n",
       "      <td>1.130000e+01</td>\n",
       "      <td>4.800000e+01</td>\n",
       "      <td>8.253606e+00</td>\n",
       "      <td>1.250000e+01</td>\n",
       "      <td>6.500000e+01</td>\n",
       "      <td>3.000000e+00</td>\n",
       "      <td>1.281010e+05</td>\n",
       "    </tr>\n",
       "    <tr>\n",
       "      <th>max</th>\n",
       "      <td>3.421083e+06</td>\n",
       "      <td>2.062090e+05</td>\n",
       "      <td>9.900000e+01</td>\n",
       "      <td>6.000000e+00</td>\n",
       "      <td>2.300000e+01</td>\n",
       "      <td>3.000000e+01</td>\n",
       "      <td>4.968800e+04</td>\n",
       "      <td>1.450000e+02</td>\n",
       "      <td>1.000000e+00</td>\n",
       "      <td>1.340000e+02</td>\n",
       "      <td>2.100000e+01</td>\n",
       "      <td>9.999900e+04</td>\n",
       "      <td>9.900000e+01</td>\n",
       "      <td>1.500694e+04</td>\n",
       "      <td>3.000000e+01</td>\n",
       "      <td>8.100000e+01</td>\n",
       "      <td>3.000000e+00</td>\n",
       "      <td>5.939010e+05</td>\n",
       "    </tr>\n",
       "  </tbody>\n",
       "</table>\n",
       "</div>"
      ],
      "text/plain": [
       "           order_id       user_id  order_number  orders_day_of_week  \\\n",
       "count  3.099266e+07  3.099266e+07  3.099266e+07        3.099266e+07   \n",
       "mean   1.710321e+06  1.029285e+05  1.783372e+01        2.741342e+00   \n",
       "std    9.873797e+05  5.947097e+04  1.763399e+01        2.089226e+00   \n",
       "min    2.000000e+00  1.000000e+00  1.000000e+00        0.000000e+00   \n",
       "25%    8.554110e+05  5.140900e+04  5.000000e+00        1.000000e+00   \n",
       "50%    1.710404e+06  1.025850e+05  1.200000e+01        3.000000e+00   \n",
       "75%    2.565216e+06  1.543880e+05  2.500000e+01        5.000000e+00   \n",
       "max    3.421083e+06  2.062090e+05  9.900000e+01        6.000000e+00   \n",
       "\n",
       "         order_time  days_since_prior_order    product_id  add_to_cart_order  \\\n",
       "count  3.099266e+07            2.932978e+07  3.099266e+07       3.099266e+07   \n",
       "mean   1.341082e+01            1.081040e+01  2.557757e+04       8.361651e+00   \n",
       "std    4.248811e+00            8.578482e+00  1.409313e+04       7.135006e+00   \n",
       "min    0.000000e+00            0.000000e+00  1.000000e+00       1.000000e+00   \n",
       "25%    1.000000e+01            5.000000e+00  1.353500e+04       3.000000e+00   \n",
       "50%    1.300000e+01            7.000000e+00  2.525600e+04       6.000000e+00   \n",
       "75%    1.600000e+01            1.400000e+01  3.793100e+04       1.100000e+01   \n",
       "max    2.300000e+01            3.000000e+01  4.968800e+04       1.450000e+02   \n",
       "\n",
       "          reordered      aisle_id  department_id        prices     max_order  \\\n",
       "count  3.099266e+07  3.099266e+07   3.099266e+07  3.099266e+07  3.099266e+07   \n",
       "mean   6.062036e-01  7.120896e+01   9.924801e+00  1.193448e+01  3.442563e+01   \n",
       "std    4.885906e-01  3.821479e+01   6.282146e+00  4.911216e+02  2.489426e+01   \n",
       "min    0.000000e+00  1.000000e+00   1.000000e+00  1.000000e+00  5.000000e+00   \n",
       "25%    0.000000e+00  3.100000e+01   4.000000e+00  4.200000e+00  1.400000e+01   \n",
       "50%    1.000000e+00  8.300000e+01   9.000000e+00  7.400000e+00  2.800000e+01   \n",
       "75%    1.000000e+00  1.070000e+02   1.600000e+01  1.130000e+01  4.800000e+01   \n",
       "max    1.000000e+00  1.340000e+02   2.100000e+01  9.999900e+04  9.900000e+01   \n",
       "\n",
       "       average_price  median_days_betw_orders           age  n_dependants  \\\n",
       "count   3.099266e+07             3.099266e+07  3.099266e+07  3.099266e+07   \n",
       "mean    1.193448e+01             9.957273e+00  4.946793e+01  1.501798e+00   \n",
       "std     7.987316e+01             6.665491e+00  1.848520e+01  1.118902e+00   \n",
       "min     1.000000e+00             0.000000e+00  1.800000e+01  0.000000e+00   \n",
       "25%     7.398110e+00             6.000000e+00  3.300000e+01  1.000000e+00   \n",
       "50%     7.829827e+00             7.000000e+00  4.900000e+01  2.000000e+00   \n",
       "75%     8.253606e+00             1.250000e+01  6.500000e+01  3.000000e+00   \n",
       "max     1.500694e+04             3.000000e+01  8.100000e+01  3.000000e+00   \n",
       "\n",
       "             income  \n",
       "count  3.099266e+07  \n",
       "mean   9.967322e+04  \n",
       "std    4.313928e+04  \n",
       "min    2.590300e+04  \n",
       "25%    6.728900e+04  \n",
       "50%    9.676500e+04  \n",
       "75%    1.281010e+05  \n",
       "max    5.939010e+05  "
      ]
     },
     "execution_count": 35,
     "metadata": {},
     "output_type": "execute_result"
    }
   ],
   "source": [
    "df_exc.describe()"
   ]
  },
  {
   "cell_type": "markdown",
   "id": "69fd246a-2735-4102-a498-acf75eab3352",
   "metadata": {},
   "source": [
    "### Age groups"
   ]
  },
  {
   "cell_type": "code",
   "execution_count": 37,
   "id": "c40cc557-34b3-4732-aa37-6c6f34de5352",
   "metadata": {},
   "outputs": [
    {
     "name": "stderr",
     "output_type": "stream",
     "text": [
      "/var/folders/pq/70k0jkkj1nb0h6hnws7mj8540000gn/T/ipykernel_12182/220913966.py:2: SettingWithCopyWarning: \n",
      "A value is trying to be set on a copy of a slice from a DataFrame.\n",
      "Try using .loc[row_indexer,col_indexer] = value instead\n",
      "\n",
      "See the caveats in the documentation: https://pandas.pydata.org/pandas-docs/stable/user_guide/indexing.html#returning-a-view-versus-a-copy\n",
      "  df_exc.loc[(df_exc['age'] >= 18) & (df_exc['age'] < 40), 'age_group'] = 'Young adult'\n"
     ]
    }
   ],
   "source": [
    "# Create an age profiling variable\n",
    "df_exc.loc[(df_exc['age'] >= 18) & (df_exc['age'] < 40), 'age_group'] = 'Young adult'\n",
    "df_exc.loc[(df_exc['age'] >= 40) & (df_exc['age'] < 60), 'age_group'] = 'Middle-aged adult'\n",
    "df_exc.loc[df_exc['age'] >= 60, 'age_group'] = 'Old adult'"
   ]
  },
  {
   "cell_type": "code",
   "execution_count": 38,
   "id": "bb82f18c-e892-4f7a-921d-204859c6b39a",
   "metadata": {},
   "outputs": [
    {
     "data": {
      "text/plain": [
       "30992664"
      ]
     },
     "execution_count": 38,
     "metadata": {},
     "output_type": "execute_result"
    }
   ],
   "source": [
    "len(df_exc['age_group'])"
   ]
  },
  {
   "cell_type": "code",
   "execution_count": 39,
   "id": "6ce72ca3-59a9-4773-8673-33f383a5c314",
   "metadata": {},
   "outputs": [
    {
     "data": {
      "text/plain": [
       "age_group\n",
       "Young adult          10674650\n",
       "Old adult            10583941\n",
       "Middle-aged adult     9734073\n",
       "Name: count, dtype: int64"
      ]
     },
     "execution_count": 39,
     "metadata": {},
     "output_type": "execute_result"
    }
   ],
   "source": [
    "df_exc['age_group'].value_counts(dropna = False)"
   ]
  },
  {
   "cell_type": "code",
   "execution_count": 40,
   "id": "8f20b24f-5853-4f7a-89d5-c6951179fc3c",
   "metadata": {},
   "outputs": [
    {
     "data": {
      "image/png": "[encoded data removed]",
      "text/plain": [
       "<Figure size 640x480 with 1 Axes>"
      ]
     },
     "metadata": {},
     "output_type": "display_data"
    }
   ],
   "source": [
    " # Create a bar chart\n",
    "bar_age_groups = df_exc['age_group'].value_counts().sort_index().plot.bar()"
   ]
  },
  {
   "cell_type": "code",
   "execution_count": 2,
   "id": "a6aed56c-2dba-4d3d-928b-ccae2a74d367",
   "metadata": {},
   "outputs": [
    {
     "ename": "NameError",
     "evalue": "name 'bar_age_groups' is not defined",
     "output_type": "error",
     "traceback": [
      "\u001b[0;31m---------------------------------------------------------------------------\u001b[0m",
      "\u001b[0;31mNameError\u001b[0m                                 Traceback (most recent call last)",
      "Cell \u001b[0;32mIn[2], line 2\u001b[0m\n\u001b[1;32m      1\u001b[0m \u001b[38;5;66;03m# Export bar chart\u001b[39;00m\n\u001b[0;32m----> 2\u001b[0m bar_age_groups\u001b[38;5;241m.\u001b[39mfigure\u001b[38;5;241m.\u001b[39msavefig(os\u001b[38;5;241m.\u001b[39mpath\u001b[38;5;241m.\u001b[39mjoin(path, \u001b[38;5;124m'\u001b[39m\u001b[38;5;124m04 Analysis\u001b[39m\u001b[38;5;124m'\u001b[39m,\u001b[38;5;124m'\u001b[39m\u001b[38;5;124mVisualizations\u001b[39m\u001b[38;5;124m'\u001b[39m, \u001b[38;5;124m'\u001b[39m\u001b[38;5;124mbar_chart_age_groups.png\u001b[39m\u001b[38;5;124m'\u001b[39m), bbox_inches \u001b[38;5;241m=\u001b[39m \u001b[38;5;124m'\u001b[39m\u001b[38;5;124mtight\u001b[39m\u001b[38;5;124m'\u001b[39m)\n",
      "\u001b[0;31mNameError\u001b[0m: name 'bar_age_groups' is not defined"
     ]
    }
   ],
   "source": [
    "# Export bar chart\n",
    "bar_age_groups.figure.savefig(os.path.join(path, '04 Analysis','Visualizations', 'bar_chart_age_groups.png'), bbox_inches = 'tight')"
   ]
  },
  {
   "cell_type": "code",
   "execution_count": 42,
   "id": "614639fa-ae5d-4f3d-b7b2-dfb8bd4e8d81",
   "metadata": {},
   "outputs": [
    {
     "data": {
      "text/html": [
       "<div>\n",
       "<style scoped>\n",
       "    .dataframe tbody tr th:only-of-type {\n",
       "        vertical-align: middle;\n",
       "    }\n",
       "\n",
       "    .dataframe tbody tr th {\n",
       "        vertical-align: top;\n",
       "    }\n",
       "\n",
       "    .dataframe thead tr th {\n",
       "        text-align: left;\n",
       "    }\n",
       "\n",
       "    .dataframe thead tr:last-of-type th {\n",
       "        text-align: right;\n",
       "    }\n",
       "</style>\n",
       "<table border=\"1\" class=\"dataframe\">\n",
       "  <thead>\n",
       "    <tr>\n",
       "      <th></th>\n",
       "      <th colspan=\"3\" halign=\"left\">days_since_prior_order</th>\n",
       "    </tr>\n",
       "    <tr>\n",
       "      <th></th>\n",
       "      <th>mean</th>\n",
       "      <th>min</th>\n",
       "      <th>max</th>\n",
       "    </tr>\n",
       "    <tr>\n",
       "      <th>age_group</th>\n",
       "      <th></th>\n",
       "      <th></th>\n",
       "      <th></th>\n",
       "    </tr>\n",
       "  </thead>\n",
       "  <tbody>\n",
       "    <tr>\n",
       "      <th>Middle-aged adult</th>\n",
       "      <td>10.819718</td>\n",
       "      <td>0.0</td>\n",
       "      <td>30.0</td>\n",
       "    </tr>\n",
       "    <tr>\n",
       "      <th>Old adult</th>\n",
       "      <td>10.800991</td>\n",
       "      <td>0.0</td>\n",
       "      <td>30.0</td>\n",
       "    </tr>\n",
       "    <tr>\n",
       "      <th>Young adult</th>\n",
       "      <td>10.811221</td>\n",
       "      <td>0.0</td>\n",
       "      <td>30.0</td>\n",
       "    </tr>\n",
       "  </tbody>\n",
       "</table>\n",
       "</div>"
      ],
      "text/plain": [
       "                  days_since_prior_order           \n",
       "                                    mean  min   max\n",
       "age_group                                          \n",
       "Middle-aged adult              10.819718  0.0  30.0\n",
       "Old adult                      10.800991  0.0  30.0\n",
       "Young adult                    10.811221  0.0  30.0"
      ]
     },
     "execution_count": 42,
     "metadata": {},
     "output_type": "execute_result"
    }
   ],
   "source": [
    "# Aggregate the max, mean, and min variables on the age group level for usage frequency\n",
    "df_exc.groupby('age_group').agg({'days_since_prior_order': ['mean', 'min', 'max']})"
   ]
  },
  {
   "cell_type": "code",
   "execution_count": 43,
   "id": "bb76a579-a4b2-47bb-9f10-49e4bb237472",
   "metadata": {},
   "outputs": [
    {
     "data": {
      "text/html": [
       "<div>\n",
       "<style scoped>\n",
       "    .dataframe tbody tr th:only-of-type {\n",
       "        vertical-align: middle;\n",
       "    }\n",
       "\n",
       "    .dataframe tbody tr th {\n",
       "        vertical-align: top;\n",
       "    }\n",
       "\n",
       "    .dataframe thead tr th {\n",
       "        text-align: left;\n",
       "    }\n",
       "\n",
       "    .dataframe thead tr:last-of-type th {\n",
       "        text-align: right;\n",
       "    }\n",
       "</style>\n",
       "<table border=\"1\" class=\"dataframe\">\n",
       "  <thead>\n",
       "    <tr>\n",
       "      <th></th>\n",
       "      <th colspan=\"3\" halign=\"left\">prices</th>\n",
       "    </tr>\n",
       "    <tr>\n",
       "      <th></th>\n",
       "      <th>mean</th>\n",
       "      <th>min</th>\n",
       "      <th>max</th>\n",
       "    </tr>\n",
       "    <tr>\n",
       "      <th>age_group</th>\n",
       "      <th></th>\n",
       "      <th></th>\n",
       "      <th></th>\n",
       "    </tr>\n",
       "  </thead>\n",
       "  <tbody>\n",
       "    <tr>\n",
       "      <th>Middle-aged adult</th>\n",
       "      <td>12.027717</td>\n",
       "      <td>1.0</td>\n",
       "      <td>99999.0</td>\n",
       "    </tr>\n",
       "    <tr>\n",
       "      <th>Old adult</th>\n",
       "      <td>11.725665</td>\n",
       "      <td>1.0</td>\n",
       "      <td>99999.0</td>\n",
       "    </tr>\n",
       "    <tr>\n",
       "      <th>Young adult</th>\n",
       "      <td>12.056513</td>\n",
       "      <td>1.0</td>\n",
       "      <td>99999.0</td>\n",
       "    </tr>\n",
       "  </tbody>\n",
       "</table>\n",
       "</div>"
      ],
      "text/plain": [
       "                      prices              \n",
       "                        mean  min      max\n",
       "age_group                                 \n",
       "Middle-aged adult  12.027717  1.0  99999.0\n",
       "Old adult          11.725665  1.0  99999.0\n",
       "Young adult        12.056513  1.0  99999.0"
      ]
     },
     "execution_count": 43,
     "metadata": {},
     "output_type": "execute_result"
    }
   ],
   "source": [
    "# Aggregate the max, mean, and min variables on age group level for expenditure\n",
    "df_exc.groupby('age_group').agg({'prices': ['mean', 'min', 'max']})"
   ]
  },
  {
   "cell_type": "markdown",
   "id": "715742c9-5810-491a-b016-f0f6a343a0e2",
   "metadata": {},
   "source": [
    "### Income groups"
   ]
  },
  {
   "cell_type": "code",
   "execution_count": 45,
   "id": "91f9f09d-ddce-4cf8-a219-1bf3e77f5dac",
   "metadata": {},
   "outputs": [
    {
     "name": "stderr",
     "output_type": "stream",
     "text": [
      "/var/folders/pq/70k0jkkj1nb0h6hnws7mj8540000gn/T/ipykernel_12182/1023026801.py:2: SettingWithCopyWarning: \n",
      "A value is trying to be set on a copy of a slice from a DataFrame.\n",
      "Try using .loc[row_indexer,col_indexer] = value instead\n",
      "\n",
      "See the caveats in the documentation: https://pandas.pydata.org/pandas-docs/stable/user_guide/indexing.html#returning-a-view-versus-a-copy\n",
      "  df_exc.loc[df_exc['income'] < 50000, 'income_group'] = 'Low income'\n"
     ]
    }
   ],
   "source": [
    "# Create an income profiling variable\n",
    "df_exc.loc[df_exc['income'] < 50000, 'income_group'] = 'Low income'\n",
    "df_exc.loc[(df_exc['income'] >= 50000) & (df_exc['age'] < 100000), 'income_group'] = 'Middle income'\n",
    "df_exc.loc[df_exc['income'] >= 100000, 'income_group'] = 'High income'"
   ]
  },
  {
   "cell_type": "code",
   "execution_count": 46,
   "id": "ce8f2c5a-bdf4-4695-adfe-212fd2653a99",
   "metadata": {},
   "outputs": [
    {
     "data": {
      "text/plain": [
       "30992664"
      ]
     },
     "execution_count": 46,
     "metadata": {},
     "output_type": "execute_result"
    }
   ],
   "source": [
    "len(df_exc['income_group'])"
   ]
  },
  {
   "cell_type": "code",
   "execution_count": 47,
   "id": "c08d5c80-2c6f-4dcb-8622-da89bccf6e95",
   "metadata": {},
   "outputs": [
    {
     "data": {
      "text/plain": [
       "income_group\n",
       "High income      14219419\n",
       "Middle income    13407096\n",
       "Low income        3366149\n",
       "Name: count, dtype: int64"
      ]
     },
     "execution_count": 47,
     "metadata": {},
     "output_type": "execute_result"
    }
   ],
   "source": [
    "df_exc['income_group'].value_counts(dropna = False)"
   ]
  },
  {
   "cell_type": "code",
   "execution_count": 48,
   "id": "744968b8-5811-4990-96a3-4a0821f707f7",
   "metadata": {},
   "outputs": [
    {
     "data": {
      "image/png": "[encoded data removed]",
      "text/plain": [
       "<Figure size 640x480 with 1 Axes>"
      ]
     },
     "metadata": {},
     "output_type": "display_data"
    }
   ],
   "source": [
    " # Create a bar chart\n",
    "bar_income_groups = df_exc['income_group'].value_counts().plot.bar()"
   ]
  },
  {
   "cell_type": "code",
   "execution_count": 49,
   "id": "ab4a02b1-6ff0-493d-8bdb-b24383c45193",
   "metadata": {},
   "outputs": [],
   "source": [
    "# Export bar chart\n",
    "bar_income_groups.figure.savefig(os.path.join(path, '04 Analysis','Visualizations', 'bar_chart_income_groups.png'), bbox_inches = 'tight')"
   ]
  },
  {
   "cell_type": "code",
   "execution_count": 50,
   "id": "cd7d0afa-5292-4af8-91cf-fe5a13b6275a",
   "metadata": {},
   "outputs": [
    {
     "data": {
      "text/html": [
       "<div>\n",
       "<style scoped>\n",
       "    .dataframe tbody tr th:only-of-type {\n",
       "        vertical-align: middle;\n",
       "    }\n",
       "\n",
       "    .dataframe tbody tr th {\n",
       "        vertical-align: top;\n",
       "    }\n",
       "\n",
       "    .dataframe thead tr th {\n",
       "        text-align: left;\n",
       "    }\n",
       "\n",
       "    .dataframe thead tr:last-of-type th {\n",
       "        text-align: right;\n",
       "    }\n",
       "</style>\n",
       "<table border=\"1\" class=\"dataframe\">\n",
       "  <thead>\n",
       "    <tr>\n",
       "      <th></th>\n",
       "      <th colspan=\"3\" halign=\"left\">days_since_prior_order</th>\n",
       "    </tr>\n",
       "    <tr>\n",
       "      <th></th>\n",
       "      <th>mean</th>\n",
       "      <th>min</th>\n",
       "      <th>max</th>\n",
       "    </tr>\n",
       "    <tr>\n",
       "      <th>income_group</th>\n",
       "      <th></th>\n",
       "      <th></th>\n",
       "      <th></th>\n",
       "    </tr>\n",
       "  </thead>\n",
       "  <tbody>\n",
       "    <tr>\n",
       "      <th>High income</th>\n",
       "      <td>10.769923</td>\n",
       "      <td>0.0</td>\n",
       "      <td>30.0</td>\n",
       "    </tr>\n",
       "    <tr>\n",
       "      <th>Low income</th>\n",
       "      <td>11.175710</td>\n",
       "      <td>0.0</td>\n",
       "      <td>30.0</td>\n",
       "    </tr>\n",
       "    <tr>\n",
       "      <th>Middle income</th>\n",
       "      <td>10.762065</td>\n",
       "      <td>0.0</td>\n",
       "      <td>30.0</td>\n",
       "    </tr>\n",
       "  </tbody>\n",
       "</table>\n",
       "</div>"
      ],
      "text/plain": [
       "              days_since_prior_order           \n",
       "                                mean  min   max\n",
       "income_group                                   \n",
       "High income                10.769923  0.0  30.0\n",
       "Low income                 11.175710  0.0  30.0\n",
       "Middle income              10.762065  0.0  30.0"
      ]
     },
     "execution_count": 50,
     "metadata": {},
     "output_type": "execute_result"
    }
   ],
   "source": [
    "# Aggregate the max, mean, and min variables on theage group level for usage frequency\n",
    "df_exc.groupby('income_group').agg({'days_since_prior_order': ['mean', 'min', 'max']})"
   ]
  },
  {
   "cell_type": "code",
   "execution_count": 51,
   "id": "c2f9ccb9-a87c-41c9-bf24-77c3dd99598c",
   "metadata": {},
   "outputs": [
    {
     "data": {
      "text/html": [
       "<div>\n",
       "<style scoped>\n",
       "    .dataframe tbody tr th:only-of-type {\n",
       "        vertical-align: middle;\n",
       "    }\n",
       "\n",
       "    .dataframe tbody tr th {\n",
       "        vertical-align: top;\n",
       "    }\n",
       "\n",
       "    .dataframe thead tr th {\n",
       "        text-align: left;\n",
       "    }\n",
       "\n",
       "    .dataframe thead tr:last-of-type th {\n",
       "        text-align: right;\n",
       "    }\n",
       "</style>\n",
       "<table border=\"1\" class=\"dataframe\">\n",
       "  <thead>\n",
       "    <tr>\n",
       "      <th></th>\n",
       "      <th colspan=\"3\" halign=\"left\">prices</th>\n",
       "    </tr>\n",
       "    <tr>\n",
       "      <th></th>\n",
       "      <th>mean</th>\n",
       "      <th>min</th>\n",
       "      <th>max</th>\n",
       "    </tr>\n",
       "    <tr>\n",
       "      <th>age_group</th>\n",
       "      <th></th>\n",
       "      <th></th>\n",
       "      <th></th>\n",
       "    </tr>\n",
       "  </thead>\n",
       "  <tbody>\n",
       "    <tr>\n",
       "      <th>Middle-aged adult</th>\n",
       "      <td>12.027717</td>\n",
       "      <td>1.0</td>\n",
       "      <td>99999.0</td>\n",
       "    </tr>\n",
       "    <tr>\n",
       "      <th>Old adult</th>\n",
       "      <td>11.725665</td>\n",
       "      <td>1.0</td>\n",
       "      <td>99999.0</td>\n",
       "    </tr>\n",
       "    <tr>\n",
       "      <th>Young adult</th>\n",
       "      <td>12.056513</td>\n",
       "      <td>1.0</td>\n",
       "      <td>99999.0</td>\n",
       "    </tr>\n",
       "  </tbody>\n",
       "</table>\n",
       "</div>"
      ],
      "text/plain": [
       "                      prices              \n",
       "                        mean  min      max\n",
       "age_group                                 \n",
       "Middle-aged adult  12.027717  1.0  99999.0\n",
       "Old adult          11.725665  1.0  99999.0\n",
       "Young adult        12.056513  1.0  99999.0"
      ]
     },
     "execution_count": 51,
     "metadata": {},
     "output_type": "execute_result"
    }
   ],
   "source": [
    "# Aggregate the max, mean, and min variables on age group level for expenditure\n",
    "df_exc.groupby('age_group').agg({'prices': ['mean', 'min', 'max']})"
   ]
  },
  {
   "cell_type": "markdown",
   "id": "03063cbf-3804-44fe-80a4-c8dc08396a55",
   "metadata": {},
   "source": [
    "### Number of dependents"
   ]
  },
  {
   "cell_type": "code",
   "execution_count": 53,
   "id": "f79ed25f-b6da-46d5-b9d5-cf8515694c83",
   "metadata": {},
   "outputs": [
    {
     "name": "stderr",
     "output_type": "stream",
     "text": [
      "/var/folders/pq/70k0jkkj1nb0h6hnws7mj8540000gn/T/ipykernel_12182/3027843441.py:2: SettingWithCopyWarning: \n",
      "A value is trying to be set on a copy of a slice from a DataFrame.\n",
      "Try using .loc[row_indexer,col_indexer] = value instead\n",
      "\n",
      "See the caveats in the documentation: https://pandas.pydata.org/pandas-docs/stable/user_guide/indexing.html#returning-a-view-versus-a-copy\n",
      "  df_exc.loc[df_exc['n_dependants'] == 0, 'dep_group'] = 'no_dependents'\n"
     ]
    }
   ],
   "source": [
    "# Create a no. of dependents profiling variable\n",
    "df_exc.loc[df_exc['n_dependants'] == 0, 'dep_group'] = 'no_dependents'\n",
    "df_exc.loc[df_exc['n_dependants'] > 0, 'dep_group'] = 'has_dependents'"
   ]
  },
  {
   "cell_type": "code",
   "execution_count": 54,
   "id": "76e34450-aeba-4d2b-b86e-7f52ae98802c",
   "metadata": {},
   "outputs": [
    {
     "data": {
      "text/plain": [
       "30992664"
      ]
     },
     "execution_count": 54,
     "metadata": {},
     "output_type": "execute_result"
    }
   ],
   "source": [
    "len(df_exc['dep_group'])"
   ]
  },
  {
   "cell_type": "code",
   "execution_count": 55,
   "id": "dab5e938-aaa1-4f7f-be65-99131a84d850",
   "metadata": {},
   "outputs": [
    {
     "data": {
      "text/plain": [
       "dep_group\n",
       "has_dependents    23245632\n",
       "no_dependents      7747032\n",
       "Name: count, dtype: int64"
      ]
     },
     "execution_count": 55,
     "metadata": {},
     "output_type": "execute_result"
    }
   ],
   "source": [
    "df_exc['dep_group'].value_counts(dropna = False)"
   ]
  },
  {
   "cell_type": "code",
   "execution_count": 56,
   "id": "d7aba915-d223-417d-8aaa-84e790c6c5bd",
   "metadata": {},
   "outputs": [
    {
     "data": {
      "image/png": "[encoded data removed]",
      "text/plain": [
       "<Figure size 640x480 with 1 Axes>"
      ]
     },
     "metadata": {},
     "output_type": "display_data"
    }
   ],
   "source": [
    " # Create a bar chart\n",
    "bar_dep_groups = df_exc['dep_group'].value_counts().plot.bar()"
   ]
  },
  {
   "cell_type": "code",
   "execution_count": 57,
   "id": "b608ebae-3078-4b75-9e03-f64cb9c3142f",
   "metadata": {},
   "outputs": [],
   "source": [
    "# Export bar chart\n",
    "bar_dep_groups.figure.savefig(os.path.join(path, '04 Analysis','Visualizations', 'bar_chart_dependents_groups.png'), bbox_inches = 'tight')"
   ]
  },
  {
   "cell_type": "code",
   "execution_count": 58,
   "id": "07909640-5d4b-4e71-8f64-abfa9c0e31c5",
   "metadata": {},
   "outputs": [
    {
     "data": {
      "text/html": [
       "<div>\n",
       "<style scoped>\n",
       "    .dataframe tbody tr th:only-of-type {\n",
       "        vertical-align: middle;\n",
       "    }\n",
       "\n",
       "    .dataframe tbody tr th {\n",
       "        vertical-align: top;\n",
       "    }\n",
       "\n",
       "    .dataframe thead tr th {\n",
       "        text-align: left;\n",
       "    }\n",
       "\n",
       "    .dataframe thead tr:last-of-type th {\n",
       "        text-align: right;\n",
       "    }\n",
       "</style>\n",
       "<table border=\"1\" class=\"dataframe\">\n",
       "  <thead>\n",
       "    <tr>\n",
       "      <th></th>\n",
       "      <th colspan=\"3\" halign=\"left\">days_since_prior_order</th>\n",
       "    </tr>\n",
       "    <tr>\n",
       "      <th></th>\n",
       "      <th>mean</th>\n",
       "      <th>min</th>\n",
       "      <th>max</th>\n",
       "    </tr>\n",
       "    <tr>\n",
       "      <th>dep_group</th>\n",
       "      <th></th>\n",
       "      <th></th>\n",
       "      <th></th>\n",
       "    </tr>\n",
       "  </thead>\n",
       "  <tbody>\n",
       "    <tr>\n",
       "      <th>has_dependents</th>\n",
       "      <td>10.816612</td>\n",
       "      <td>0.0</td>\n",
       "      <td>30.0</td>\n",
       "    </tr>\n",
       "    <tr>\n",
       "      <th>no_dependents</th>\n",
       "      <td>10.791750</td>\n",
       "      <td>0.0</td>\n",
       "      <td>30.0</td>\n",
       "    </tr>\n",
       "  </tbody>\n",
       "</table>\n",
       "</div>"
      ],
      "text/plain": [
       "               days_since_prior_order           \n",
       "                                 mean  min   max\n",
       "dep_group                                       \n",
       "has_dependents              10.816612  0.0  30.0\n",
       "no_dependents               10.791750  0.0  30.0"
      ]
     },
     "execution_count": 58,
     "metadata": {},
     "output_type": "execute_result"
    }
   ],
   "source": [
    "# Aggregate the max, mean, and min variables on theage group level for usage frequency\n",
    "df_exc.groupby('dep_group').agg({'days_since_prior_order': ['mean', 'min', 'max']})"
   ]
  },
  {
   "cell_type": "code",
   "execution_count": 59,
   "id": "5a3df86f-480c-40c2-b3fd-6150d3055f08",
   "metadata": {},
   "outputs": [
    {
     "data": {
      "text/html": [
       "<div>\n",
       "<style scoped>\n",
       "    .dataframe tbody tr th:only-of-type {\n",
       "        vertical-align: middle;\n",
       "    }\n",
       "\n",
       "    .dataframe tbody tr th {\n",
       "        vertical-align: top;\n",
       "    }\n",
       "\n",
       "    .dataframe thead tr th {\n",
       "        text-align: left;\n",
       "    }\n",
       "\n",
       "    .dataframe thead tr:last-of-type th {\n",
       "        text-align: right;\n",
       "    }\n",
       "</style>\n",
       "<table border=\"1\" class=\"dataframe\">\n",
       "  <thead>\n",
       "    <tr>\n",
       "      <th></th>\n",
       "      <th colspan=\"3\" halign=\"left\">prices</th>\n",
       "    </tr>\n",
       "    <tr>\n",
       "      <th></th>\n",
       "      <th>mean</th>\n",
       "      <th>min</th>\n",
       "      <th>max</th>\n",
       "    </tr>\n",
       "    <tr>\n",
       "      <th>dep_group</th>\n",
       "      <th></th>\n",
       "      <th></th>\n",
       "      <th></th>\n",
       "    </tr>\n",
       "  </thead>\n",
       "  <tbody>\n",
       "    <tr>\n",
       "      <th>has_dependents</th>\n",
       "      <td>11.878163</td>\n",
       "      <td>1.0</td>\n",
       "      <td>99999.0</td>\n",
       "    </tr>\n",
       "    <tr>\n",
       "      <th>no_dependents</th>\n",
       "      <td>12.103485</td>\n",
       "      <td>1.0</td>\n",
       "      <td>99999.0</td>\n",
       "    </tr>\n",
       "  </tbody>\n",
       "</table>\n",
       "</div>"
      ],
      "text/plain": [
       "                   prices              \n",
       "                     mean  min      max\n",
       "dep_group                              \n",
       "has_dependents  11.878163  1.0  99999.0\n",
       "no_dependents   12.103485  1.0  99999.0"
      ]
     },
     "execution_count": 59,
     "metadata": {},
     "output_type": "execute_result"
    }
   ],
   "source": [
    "# Aggregate the max, mean, and min variables on age group level for expenditure\n",
    "df_exc.groupby('dep_group').agg({'prices': ['mean', 'min', 'max']})"
   ]
  },
  {
   "cell_type": "markdown",
   "id": "b7fe4e3f-6b37-4638-a8e2-e194247dbb02",
   "metadata": {},
   "source": [
    "## Departments"
   ]
  },
  {
   "cell_type": "markdown",
   "id": "6039cab9-cf60-44eb-8dae-136ad3c5e172",
   "metadata": {},
   "source": [
    "### Import departments.csv"
   ]
  },
  {
   "cell_type": "code",
   "execution_count": 62,
   "id": "edd0033c-980b-417d-a0fd-64637ad4f044",
   "metadata": {},
   "outputs": [],
   "source": [
    "path = r'/Users/zoegyftopoulos/Documents/Data Projects/07-2024 Instacart Basket Analysis'"
   ]
  },
  {
   "cell_type": "code",
   "execution_count": 63,
   "id": "f70fd156-f471-46a8-a846-f9f63d92291d",
   "metadata": {},
   "outputs": [],
   "source": [
    "df_dep = pd.read_csv(os.path.join(path, '02 Data', 'Prepared data', 'departments_wrangled.csv'))"
   ]
  },
  {
   "cell_type": "code",
   "execution_count": 64,
   "id": "3e0d7c51-1ca7-4a48-b0fd-1210a1064de4",
   "metadata": {},
   "outputs": [
    {
     "data": {
      "text/html": [
       "<div>\n",
       "<style scoped>\n",
       "    .dataframe tbody tr th:only-of-type {\n",
       "        vertical-align: middle;\n",
       "    }\n",
       "\n",
       "    .dataframe tbody tr th {\n",
       "        vertical-align: top;\n",
       "    }\n",
       "\n",
       "    .dataframe thead th {\n",
       "        text-align: right;\n",
       "    }\n",
       "</style>\n",
       "<table border=\"1\" class=\"dataframe\">\n",
       "  <thead>\n",
       "    <tr style=\"text-align: right;\">\n",
       "      <th></th>\n",
       "      <th>Unnamed: 0</th>\n",
       "      <th>department</th>\n",
       "    </tr>\n",
       "  </thead>\n",
       "  <tbody>\n",
       "    <tr>\n",
       "      <th>0</th>\n",
       "      <td>1</td>\n",
       "      <td>frozen</td>\n",
       "    </tr>\n",
       "    <tr>\n",
       "      <th>1</th>\n",
       "      <td>2</td>\n",
       "      <td>other</td>\n",
       "    </tr>\n",
       "    <tr>\n",
       "      <th>2</th>\n",
       "      <td>3</td>\n",
       "      <td>bakery</td>\n",
       "    </tr>\n",
       "    <tr>\n",
       "      <th>3</th>\n",
       "      <td>4</td>\n",
       "      <td>produce</td>\n",
       "    </tr>\n",
       "    <tr>\n",
       "      <th>4</th>\n",
       "      <td>5</td>\n",
       "      <td>alcohol</td>\n",
       "    </tr>\n",
       "    <tr>\n",
       "      <th>5</th>\n",
       "      <td>6</td>\n",
       "      <td>international</td>\n",
       "    </tr>\n",
       "    <tr>\n",
       "      <th>6</th>\n",
       "      <td>7</td>\n",
       "      <td>beverages</td>\n",
       "    </tr>\n",
       "    <tr>\n",
       "      <th>7</th>\n",
       "      <td>8</td>\n",
       "      <td>pets</td>\n",
       "    </tr>\n",
       "    <tr>\n",
       "      <th>8</th>\n",
       "      <td>9</td>\n",
       "      <td>dry goods pasta</td>\n",
       "    </tr>\n",
       "    <tr>\n",
       "      <th>9</th>\n",
       "      <td>10</td>\n",
       "      <td>bulk</td>\n",
       "    </tr>\n",
       "    <tr>\n",
       "      <th>10</th>\n",
       "      <td>11</td>\n",
       "      <td>personal care</td>\n",
       "    </tr>\n",
       "    <tr>\n",
       "      <th>11</th>\n",
       "      <td>12</td>\n",
       "      <td>meat seafood</td>\n",
       "    </tr>\n",
       "    <tr>\n",
       "      <th>12</th>\n",
       "      <td>13</td>\n",
       "      <td>pantry</td>\n",
       "    </tr>\n",
       "    <tr>\n",
       "      <th>13</th>\n",
       "      <td>14</td>\n",
       "      <td>breakfast</td>\n",
       "    </tr>\n",
       "    <tr>\n",
       "      <th>14</th>\n",
       "      <td>15</td>\n",
       "      <td>canned goods</td>\n",
       "    </tr>\n",
       "    <tr>\n",
       "      <th>15</th>\n",
       "      <td>16</td>\n",
       "      <td>dairy eggs</td>\n",
       "    </tr>\n",
       "    <tr>\n",
       "      <th>16</th>\n",
       "      <td>17</td>\n",
       "      <td>household</td>\n",
       "    </tr>\n",
       "    <tr>\n",
       "      <th>17</th>\n",
       "      <td>18</td>\n",
       "      <td>babies</td>\n",
       "    </tr>\n",
       "    <tr>\n",
       "      <th>18</th>\n",
       "      <td>19</td>\n",
       "      <td>snacks</td>\n",
       "    </tr>\n",
       "    <tr>\n",
       "      <th>19</th>\n",
       "      <td>20</td>\n",
       "      <td>deli</td>\n",
       "    </tr>\n",
       "    <tr>\n",
       "      <th>20</th>\n",
       "      <td>21</td>\n",
       "      <td>missing</td>\n",
       "    </tr>\n",
       "  </tbody>\n",
       "</table>\n",
       "</div>"
      ],
      "text/plain": [
       "    Unnamed: 0       department\n",
       "0            1           frozen\n",
       "1            2            other\n",
       "2            3           bakery\n",
       "3            4          produce\n",
       "4            5          alcohol\n",
       "5            6    international\n",
       "6            7        beverages\n",
       "7            8             pets\n",
       "8            9  dry goods pasta\n",
       "9           10             bulk\n",
       "10          11    personal care\n",
       "11          12     meat seafood\n",
       "12          13           pantry\n",
       "13          14        breakfast\n",
       "14          15     canned goods\n",
       "15          16       dairy eggs\n",
       "16          17        household\n",
       "17          18           babies\n",
       "18          19           snacks\n",
       "19          20             deli\n",
       "20          21          missing"
      ]
     },
     "execution_count": 64,
     "metadata": {},
     "output_type": "execute_result"
    }
   ],
   "source": [
    "df_dep.head(25)"
   ]
  },
  {
   "cell_type": "code",
   "execution_count": 65,
   "id": "7edacbea-e9f1-49d4-857f-a36030e5ad65",
   "metadata": {},
   "outputs": [],
   "source": [
    "df_dep = df_dep.rename(columns = {'Unnamed: 0':'department_id'})"
   ]
  },
  {
   "cell_type": "code",
   "execution_count": 66,
   "id": "50e06a7d-7e46-49f0-995f-47cd79f6533c",
   "metadata": {},
   "outputs": [
    {
     "data": {
      "text/plain": [
       "{1: 'frozen',\n",
       " 2: 'other',\n",
       " 3: 'bakery',\n",
       " 4: 'produce',\n",
       " 5: 'alcohol',\n",
       " 6: 'international',\n",
       " 7: 'beverages',\n",
       " 8: 'pets',\n",
       " 9: 'dry goods pasta',\n",
       " 10: 'bulk',\n",
       " 11: 'personal care',\n",
       " 12: 'meat seafood',\n",
       " 13: 'pantry',\n",
       " 14: 'breakfast',\n",
       " 15: 'canned goods',\n",
       " 16: 'dairy eggs',\n",
       " 17: 'household',\n",
       " 18: 'babies',\n",
       " 19: 'snacks',\n",
       " 20: 'deli',\n",
       " 21: 'missing'}"
      ]
     },
     "execution_count": 66,
     "metadata": {},
     "output_type": "execute_result"
    }
   ],
   "source": [
    "# Create dictionary from df_dep\n",
    "dep_dict = dict(zip(df_dep['department_id'], df_dep['department']))\n",
    "dep_dict"
   ]
  },
  {
   "cell_type": "code",
   "execution_count": 67,
   "id": "a5ea4a1c-4400-45a5-948f-eed272072d22",
   "metadata": {},
   "outputs": [
    {
     "name": "stderr",
     "output_type": "stream",
     "text": [
      "/var/folders/pq/70k0jkkj1nb0h6hnws7mj8540000gn/T/ipykernel_12182/2988893524.py:2: SettingWithCopyWarning: \n",
      "A value is trying to be set on a copy of a slice from a DataFrame.\n",
      "Try using .loc[row_indexer,col_indexer] = value instead\n",
      "\n",
      "See the caveats in the documentation: https://pandas.pydata.org/pandas-docs/stable/user_guide/indexing.html#returning-a-view-versus-a-copy\n",
      "  df_exc['department'] = df['department_id'].map(dep_dict)\n"
     ]
    }
   ],
   "source": [
    "# Create new department column for df_exc\n",
    "df_exc['department'] = df['department_id'].map(dep_dict)"
   ]
  },
  {
   "cell_type": "code",
   "execution_count": 68,
   "id": "5cec2014-5019-4563-88ca-1a08914b73ba",
   "metadata": {},
   "outputs": [
    {
     "data": {
      "text/html": [
       "<div>\n",
       "<style scoped>\n",
       "    .dataframe tbody tr th:only-of-type {\n",
       "        vertical-align: middle;\n",
       "    }\n",
       "\n",
       "    .dataframe tbody tr th {\n",
       "        vertical-align: top;\n",
       "    }\n",
       "\n",
       "    .dataframe thead th {\n",
       "        text-align: right;\n",
       "    }\n",
       "</style>\n",
       "<table border=\"1\" class=\"dataframe\">\n",
       "  <thead>\n",
       "    <tr style=\"text-align: right;\">\n",
       "      <th></th>\n",
       "      <th>order_id</th>\n",
       "      <th>user_id</th>\n",
       "      <th>eval_set</th>\n",
       "      <th>order_number</th>\n",
       "      <th>orders_day_of_week</th>\n",
       "      <th>order_time</th>\n",
       "      <th>days_since_prior_order</th>\n",
       "      <th>product_id</th>\n",
       "      <th>add_to_cart_order</th>\n",
       "      <th>reordered</th>\n",
       "      <th>...</th>\n",
       "      <th>n_dependants</th>\n",
       "      <th>fam_status</th>\n",
       "      <th>income</th>\n",
       "      <th>_merge</th>\n",
       "      <th>region</th>\n",
       "      <th>exclusion_flag</th>\n",
       "      <th>age_group</th>\n",
       "      <th>income_group</th>\n",
       "      <th>dep_group</th>\n",
       "      <th>department</th>\n",
       "    </tr>\n",
       "  </thead>\n",
       "  <tbody>\n",
       "    <tr>\n",
       "      <th>0</th>\n",
       "      <td>2539329</td>\n",
       "      <td>1</td>\n",
       "      <td>prior</td>\n",
       "      <td>1</td>\n",
       "      <td>2</td>\n",
       "      <td>8</td>\n",
       "      <td>NaN</td>\n",
       "      <td>196</td>\n",
       "      <td>1</td>\n",
       "      <td>0</td>\n",
       "      <td>...</td>\n",
       "      <td>3</td>\n",
       "      <td>married</td>\n",
       "      <td>40423</td>\n",
       "      <td>both</td>\n",
       "      <td>South</td>\n",
       "      <td>include</td>\n",
       "      <td>Young adult</td>\n",
       "      <td>Low income</td>\n",
       "      <td>has_dependents</td>\n",
       "      <td>beverages</td>\n",
       "    </tr>\n",
       "    <tr>\n",
       "      <th>1</th>\n",
       "      <td>2398795</td>\n",
       "      <td>1</td>\n",
       "      <td>prior</td>\n",
       "      <td>2</td>\n",
       "      <td>3</td>\n",
       "      <td>7</td>\n",
       "      <td>15.0</td>\n",
       "      <td>196</td>\n",
       "      <td>1</td>\n",
       "      <td>1</td>\n",
       "      <td>...</td>\n",
       "      <td>3</td>\n",
       "      <td>married</td>\n",
       "      <td>40423</td>\n",
       "      <td>both</td>\n",
       "      <td>South</td>\n",
       "      <td>include</td>\n",
       "      <td>Young adult</td>\n",
       "      <td>Low income</td>\n",
       "      <td>has_dependents</td>\n",
       "      <td>beverages</td>\n",
       "    </tr>\n",
       "    <tr>\n",
       "      <th>2</th>\n",
       "      <td>473747</td>\n",
       "      <td>1</td>\n",
       "      <td>prior</td>\n",
       "      <td>3</td>\n",
       "      <td>3</td>\n",
       "      <td>12</td>\n",
       "      <td>21.0</td>\n",
       "      <td>196</td>\n",
       "      <td>1</td>\n",
       "      <td>1</td>\n",
       "      <td>...</td>\n",
       "      <td>3</td>\n",
       "      <td>married</td>\n",
       "      <td>40423</td>\n",
       "      <td>both</td>\n",
       "      <td>South</td>\n",
       "      <td>include</td>\n",
       "      <td>Young adult</td>\n",
       "      <td>Low income</td>\n",
       "      <td>has_dependents</td>\n",
       "      <td>beverages</td>\n",
       "    </tr>\n",
       "    <tr>\n",
       "      <th>3</th>\n",
       "      <td>2254736</td>\n",
       "      <td>1</td>\n",
       "      <td>prior</td>\n",
       "      <td>4</td>\n",
       "      <td>4</td>\n",
       "      <td>7</td>\n",
       "      <td>29.0</td>\n",
       "      <td>196</td>\n",
       "      <td>1</td>\n",
       "      <td>1</td>\n",
       "      <td>...</td>\n",
       "      <td>3</td>\n",
       "      <td>married</td>\n",
       "      <td>40423</td>\n",
       "      <td>both</td>\n",
       "      <td>South</td>\n",
       "      <td>include</td>\n",
       "      <td>Young adult</td>\n",
       "      <td>Low income</td>\n",
       "      <td>has_dependents</td>\n",
       "      <td>beverages</td>\n",
       "    </tr>\n",
       "    <tr>\n",
       "      <th>4</th>\n",
       "      <td>431534</td>\n",
       "      <td>1</td>\n",
       "      <td>prior</td>\n",
       "      <td>5</td>\n",
       "      <td>4</td>\n",
       "      <td>15</td>\n",
       "      <td>28.0</td>\n",
       "      <td>196</td>\n",
       "      <td>1</td>\n",
       "      <td>1</td>\n",
       "      <td>...</td>\n",
       "      <td>3</td>\n",
       "      <td>married</td>\n",
       "      <td>40423</td>\n",
       "      <td>both</td>\n",
       "      <td>South</td>\n",
       "      <td>include</td>\n",
       "      <td>Young adult</td>\n",
       "      <td>Low income</td>\n",
       "      <td>has_dependents</td>\n",
       "      <td>beverages</td>\n",
       "    </tr>\n",
       "  </tbody>\n",
       "</table>\n",
       "<p>5 rows × 38 columns</p>\n",
       "</div>"
      ],
      "text/plain": [
       "   order_id  user_id eval_set  order_number  orders_day_of_week  order_time  \\\n",
       "0   2539329        1    prior             1                   2           8   \n",
       "1   2398795        1    prior             2                   3           7   \n",
       "2    473747        1    prior             3                   3          12   \n",
       "3   2254736        1    prior             4                   4           7   \n",
       "4    431534        1    prior             5                   4          15   \n",
       "\n",
       "   days_since_prior_order  product_id  add_to_cart_order  reordered  ...  \\\n",
       "0                     NaN         196                  1          0  ...   \n",
       "1                    15.0         196                  1          1  ...   \n",
       "2                    21.0         196                  1          1  ...   \n",
       "3                    29.0         196                  1          1  ...   \n",
       "4                    28.0         196                  1          1  ...   \n",
       "\n",
       "  n_dependants  fam_status  income  _merge region exclusion_flag    age_group  \\\n",
       "0            3     married   40423    both  South        include  Young adult   \n",
       "1            3     married   40423    both  South        include  Young adult   \n",
       "2            3     married   40423    both  South        include  Young adult   \n",
       "3            3     married   40423    both  South        include  Young adult   \n",
       "4            3     married   40423    both  South        include  Young adult   \n",
       "\n",
       "  income_group       dep_group department  \n",
       "0   Low income  has_dependents  beverages  \n",
       "1   Low income  has_dependents  beverages  \n",
       "2   Low income  has_dependents  beverages  \n",
       "3   Low income  has_dependents  beverages  \n",
       "4   Low income  has_dependents  beverages  \n",
       "\n",
       "[5 rows x 38 columns]"
      ]
     },
     "execution_count": 68,
     "metadata": {},
     "output_type": "execute_result"
    }
   ],
   "source": [
    "df_exc.head()"
   ]
  },
  {
   "cell_type": "code",
   "execution_count": 69,
   "id": "46546ac7-77e0-4e84-865f-8bea77245566",
   "metadata": {},
   "outputs": [
    {
     "data": {
      "text/plain": [
       "department\n",
       "produce            9079276\n",
       "dairy eggs         5191828\n",
       "snacks             2766406\n",
       "beverages          2571934\n",
       "frozen             2123342\n",
       "pantry             1782903\n",
       "bakery             1125026\n",
       "canned goods       1012074\n",
       "deli               1003834\n",
       "dry goods pasta     822136\n",
       "household           699858\n",
       "breakfast           678095\n",
       "meat seafood        674785\n",
       "personal care       424415\n",
       "babies              410392\n",
       "international       255991\n",
       "alcohol             144674\n",
       "pets                 93065\n",
       "missing              64768\n",
       "other                34411\n",
       "bulk                 33451\n",
       "Name: count, dtype: int64"
      ]
     },
     "execution_count": 69,
     "metadata": {},
     "output_type": "execute_result"
    }
   ],
   "source": [
    "df_exc['department'].value_counts(dropna = False)"
   ]
  },
  {
   "cell_type": "code",
   "execution_count": 70,
   "id": "9a7edf0c-6c66-4d26-af85-45fc5de30eb9",
   "metadata": {},
   "outputs": [
    {
     "data": {
      "image/png": "[encoded data removed]",
      "text/plain": [
       "<Figure size 640x480 with 1 Axes>"
      ]
     },
     "metadata": {},
     "output_type": "display_data"
    }
   ],
   "source": [
    " # Create a bar chart\n",
    "bar_depart_groups = df_exc['department'].value_counts().plot.bar()"
   ]
  },
  {
   "cell_type": "code",
   "execution_count": 71,
   "id": "863bf96f-1962-461d-9b5d-7a6e000dc7a1",
   "metadata": {},
   "outputs": [],
   "source": [
    "# Export bar chart\n",
    "bar_depart_groups.figure.savefig(os.path.join(path, '04 Analysis','Visualizations', 'bar_chart_departments.png'), bbox_inches = 'tight')"
   ]
  },
  {
   "cell_type": "code",
   "execution_count": 72,
   "id": "3d8301fe-9350-4ba5-9ae3-16f6c0a8a45a",
   "metadata": {},
   "outputs": [
    {
     "data": {
      "text/html": [
       "<div>\n",
       "<style scoped>\n",
       "    .dataframe tbody tr th:only-of-type {\n",
       "        vertical-align: middle;\n",
       "    }\n",
       "\n",
       "    .dataframe tbody tr th {\n",
       "        vertical-align: top;\n",
       "    }\n",
       "\n",
       "    .dataframe thead tr th {\n",
       "        text-align: left;\n",
       "    }\n",
       "\n",
       "    .dataframe thead tr:last-of-type th {\n",
       "        text-align: right;\n",
       "    }\n",
       "</style>\n",
       "<table border=\"1\" class=\"dataframe\">\n",
       "  <thead>\n",
       "    <tr>\n",
       "      <th></th>\n",
       "      <th colspan=\"3\" halign=\"left\">days_since_prior_order</th>\n",
       "    </tr>\n",
       "    <tr>\n",
       "      <th></th>\n",
       "      <th>mean</th>\n",
       "      <th>min</th>\n",
       "      <th>max</th>\n",
       "    </tr>\n",
       "    <tr>\n",
       "      <th>department</th>\n",
       "      <th></th>\n",
       "      <th></th>\n",
       "      <th></th>\n",
       "    </tr>\n",
       "  </thead>\n",
       "  <tbody>\n",
       "    <tr>\n",
       "      <th>alcohol</th>\n",
       "      <td>10.007902</td>\n",
       "      <td>0.0</td>\n",
       "      <td>30.0</td>\n",
       "    </tr>\n",
       "    <tr>\n",
       "      <th>babies</th>\n",
       "      <td>9.780844</td>\n",
       "      <td>0.0</td>\n",
       "      <td>30.0</td>\n",
       "    </tr>\n",
       "    <tr>\n",
       "      <th>bakery</th>\n",
       "      <td>10.806458</td>\n",
       "      <td>0.0</td>\n",
       "      <td>30.0</td>\n",
       "    </tr>\n",
       "    <tr>\n",
       "      <th>beverages</th>\n",
       "      <td>10.768491</td>\n",
       "      <td>0.0</td>\n",
       "      <td>30.0</td>\n",
       "    </tr>\n",
       "    <tr>\n",
       "      <th>breakfast</th>\n",
       "      <td>11.003466</td>\n",
       "      <td>0.0</td>\n",
       "      <td>30.0</td>\n",
       "    </tr>\n",
       "    <tr>\n",
       "      <th>bulk</th>\n",
       "      <td>9.880211</td>\n",
       "      <td>0.0</td>\n",
       "      <td>30.0</td>\n",
       "    </tr>\n",
       "    <tr>\n",
       "      <th>canned goods</th>\n",
       "      <td>11.316872</td>\n",
       "      <td>0.0</td>\n",
       "      <td>30.0</td>\n",
       "    </tr>\n",
       "    <tr>\n",
       "      <th>dairy eggs</th>\n",
       "      <td>10.709534</td>\n",
       "      <td>0.0</td>\n",
       "      <td>30.0</td>\n",
       "    </tr>\n",
       "    <tr>\n",
       "      <th>deli</th>\n",
       "      <td>11.051389</td>\n",
       "      <td>0.0</td>\n",
       "      <td>30.0</td>\n",
       "    </tr>\n",
       "    <tr>\n",
       "      <th>dry goods pasta</th>\n",
       "      <td>11.440362</td>\n",
       "      <td>0.0</td>\n",
       "      <td>30.0</td>\n",
       "    </tr>\n",
       "    <tr>\n",
       "      <th>frozen</th>\n",
       "      <td>11.414111</td>\n",
       "      <td>0.0</td>\n",
       "      <td>30.0</td>\n",
       "    </tr>\n",
       "    <tr>\n",
       "      <th>household</th>\n",
       "      <td>11.649305</td>\n",
       "      <td>0.0</td>\n",
       "      <td>30.0</td>\n",
       "    </tr>\n",
       "    <tr>\n",
       "      <th>international</th>\n",
       "      <td>10.963731</td>\n",
       "      <td>0.0</td>\n",
       "      <td>30.0</td>\n",
       "    </tr>\n",
       "    <tr>\n",
       "      <th>meat seafood</th>\n",
       "      <td>11.123666</td>\n",
       "      <td>0.0</td>\n",
       "      <td>30.0</td>\n",
       "    </tr>\n",
       "    <tr>\n",
       "      <th>missing</th>\n",
       "      <td>9.869551</td>\n",
       "      <td>0.0</td>\n",
       "      <td>30.0</td>\n",
       "    </tr>\n",
       "    <tr>\n",
       "      <th>other</th>\n",
       "      <td>10.624647</td>\n",
       "      <td>0.0</td>\n",
       "      <td>30.0</td>\n",
       "    </tr>\n",
       "    <tr>\n",
       "      <th>pantry</th>\n",
       "      <td>10.836132</td>\n",
       "      <td>0.0</td>\n",
       "      <td>30.0</td>\n",
       "    </tr>\n",
       "    <tr>\n",
       "      <th>personal care</th>\n",
       "      <td>11.256465</td>\n",
       "      <td>0.0</td>\n",
       "      <td>30.0</td>\n",
       "    </tr>\n",
       "    <tr>\n",
       "      <th>pets</th>\n",
       "      <td>11.593805</td>\n",
       "      <td>0.0</td>\n",
       "      <td>30.0</td>\n",
       "    </tr>\n",
       "    <tr>\n",
       "      <th>produce</th>\n",
       "      <td>10.574118</td>\n",
       "      <td>0.0</td>\n",
       "      <td>30.0</td>\n",
       "    </tr>\n",
       "    <tr>\n",
       "      <th>snacks</th>\n",
       "      <td>10.671110</td>\n",
       "      <td>0.0</td>\n",
       "      <td>30.0</td>\n",
       "    </tr>\n",
       "  </tbody>\n",
       "</table>\n",
       "</div>"
      ],
      "text/plain": [
       "                days_since_prior_order           \n",
       "                                  mean  min   max\n",
       "department                                       \n",
       "alcohol                      10.007902  0.0  30.0\n",
       "babies                        9.780844  0.0  30.0\n",
       "bakery                       10.806458  0.0  30.0\n",
       "beverages                    10.768491  0.0  30.0\n",
       "breakfast                    11.003466  0.0  30.0\n",
       "bulk                          9.880211  0.0  30.0\n",
       "canned goods                 11.316872  0.0  30.0\n",
       "dairy eggs                   10.709534  0.0  30.0\n",
       "deli                         11.051389  0.0  30.0\n",
       "dry goods pasta              11.440362  0.0  30.0\n",
       "frozen                       11.414111  0.0  30.0\n",
       "household                    11.649305  0.0  30.0\n",
       "international                10.963731  0.0  30.0\n",
       "meat seafood                 11.123666  0.0  30.0\n",
       "missing                       9.869551  0.0  30.0\n",
       "other                        10.624647  0.0  30.0\n",
       "pantry                       10.836132  0.0  30.0\n",
       "personal care                11.256465  0.0  30.0\n",
       "pets                         11.593805  0.0  30.0\n",
       "produce                      10.574118  0.0  30.0\n",
       "snacks                       10.671110  0.0  30.0"
      ]
     },
     "execution_count": 72,
     "metadata": {},
     "output_type": "execute_result"
    }
   ],
   "source": [
    "# Aggregate the max, mean, and min variables on theage group level for usage frequency\n",
    "df_exc.groupby('department').agg({'days_since_prior_order': ['mean', 'min', 'max']})"
   ]
  },
  {
   "cell_type": "code",
   "execution_count": 73,
   "id": "8967d51e-b0c0-4c41-905e-f0636a52acce",
   "metadata": {},
   "outputs": [
    {
     "data": {
      "text/html": [
       "<div>\n",
       "<style scoped>\n",
       "    .dataframe tbody tr th:only-of-type {\n",
       "        vertical-align: middle;\n",
       "    }\n",
       "\n",
       "    .dataframe tbody tr th {\n",
       "        vertical-align: top;\n",
       "    }\n",
       "\n",
       "    .dataframe thead tr th {\n",
       "        text-align: left;\n",
       "    }\n",
       "\n",
       "    .dataframe thead tr:last-of-type th {\n",
       "        text-align: right;\n",
       "    }\n",
       "</style>\n",
       "<table border=\"1\" class=\"dataframe\">\n",
       "  <thead>\n",
       "    <tr>\n",
       "      <th></th>\n",
       "      <th colspan=\"3\" halign=\"left\">prices</th>\n",
       "    </tr>\n",
       "    <tr>\n",
       "      <th></th>\n",
       "      <th>mean</th>\n",
       "      <th>min</th>\n",
       "      <th>max</th>\n",
       "    </tr>\n",
       "    <tr>\n",
       "      <th>department</th>\n",
       "      <th></th>\n",
       "      <th></th>\n",
       "      <th></th>\n",
       "    </tr>\n",
       "  </thead>\n",
       "  <tbody>\n",
       "    <tr>\n",
       "      <th>alcohol</th>\n",
       "      <td>8.151446</td>\n",
       "      <td>1.0</td>\n",
       "      <td>15.0</td>\n",
       "    </tr>\n",
       "    <tr>\n",
       "      <th>babies</th>\n",
       "      <td>7.634399</td>\n",
       "      <td>1.0</td>\n",
       "      <td>15.0</td>\n",
       "    </tr>\n",
       "    <tr>\n",
       "      <th>bakery</th>\n",
       "      <td>7.868462</td>\n",
       "      <td>1.0</td>\n",
       "      <td>15.0</td>\n",
       "    </tr>\n",
       "    <tr>\n",
       "      <th>beverages</th>\n",
       "      <td>7.682624</td>\n",
       "      <td>1.0</td>\n",
       "      <td>15.0</td>\n",
       "    </tr>\n",
       "    <tr>\n",
       "      <th>breakfast</th>\n",
       "      <td>8.068044</td>\n",
       "      <td>1.0</td>\n",
       "      <td>14.9</td>\n",
       "    </tr>\n",
       "    <tr>\n",
       "      <th>bulk</th>\n",
       "      <td>8.346919</td>\n",
       "      <td>1.4</td>\n",
       "      <td>14.1</td>\n",
       "    </tr>\n",
       "    <tr>\n",
       "      <th>canned goods</th>\n",
       "      <td>7.546660</td>\n",
       "      <td>1.0</td>\n",
       "      <td>15.0</td>\n",
       "    </tr>\n",
       "    <tr>\n",
       "      <th>dairy eggs</th>\n",
       "      <td>33.061592</td>\n",
       "      <td>1.0</td>\n",
       "      <td>99999.0</td>\n",
       "    </tr>\n",
       "    <tr>\n",
       "      <th>deli</th>\n",
       "      <td>7.783347</td>\n",
       "      <td>1.0</td>\n",
       "      <td>15.0</td>\n",
       "    </tr>\n",
       "    <tr>\n",
       "      <th>dry goods pasta</th>\n",
       "      <td>7.349370</td>\n",
       "      <td>1.0</td>\n",
       "      <td>15.0</td>\n",
       "    </tr>\n",
       "    <tr>\n",
       "      <th>frozen</th>\n",
       "      <td>7.738627</td>\n",
       "      <td>1.0</td>\n",
       "      <td>15.0</td>\n",
       "    </tr>\n",
       "    <tr>\n",
       "      <th>household</th>\n",
       "      <td>7.379943</td>\n",
       "      <td>1.0</td>\n",
       "      <td>15.0</td>\n",
       "    </tr>\n",
       "    <tr>\n",
       "      <th>international</th>\n",
       "      <td>7.678797</td>\n",
       "      <td>1.0</td>\n",
       "      <td>15.0</td>\n",
       "    </tr>\n",
       "    <tr>\n",
       "      <th>meat seafood</th>\n",
       "      <td>16.300062</td>\n",
       "      <td>8.0</td>\n",
       "      <td>25.0</td>\n",
       "    </tr>\n",
       "    <tr>\n",
       "      <th>missing</th>\n",
       "      <td>8.660655</td>\n",
       "      <td>1.0</td>\n",
       "      <td>15.0</td>\n",
       "    </tr>\n",
       "    <tr>\n",
       "      <th>other</th>\n",
       "      <td>6.961995</td>\n",
       "      <td>1.1</td>\n",
       "      <td>15.0</td>\n",
       "    </tr>\n",
       "    <tr>\n",
       "      <th>pantry</th>\n",
       "      <td>8.014940</td>\n",
       "      <td>1.0</td>\n",
       "      <td>20.0</td>\n",
       "    </tr>\n",
       "    <tr>\n",
       "      <th>personal care</th>\n",
       "      <td>7.998617</td>\n",
       "      <td>1.0</td>\n",
       "      <td>15.0</td>\n",
       "    </tr>\n",
       "    <tr>\n",
       "      <th>pets</th>\n",
       "      <td>7.887860</td>\n",
       "      <td>1.0</td>\n",
       "      <td>15.0</td>\n",
       "    </tr>\n",
       "    <tr>\n",
       "      <th>produce</th>\n",
       "      <td>7.980349</td>\n",
       "      <td>1.0</td>\n",
       "      <td>15.0</td>\n",
       "    </tr>\n",
       "    <tr>\n",
       "      <th>snacks</th>\n",
       "      <td>4.275555</td>\n",
       "      <td>1.6</td>\n",
       "      <td>7.0</td>\n",
       "    </tr>\n",
       "  </tbody>\n",
       "</table>\n",
       "</div>"
      ],
      "text/plain": [
       "                    prices              \n",
       "                      mean  min      max\n",
       "department                              \n",
       "alcohol           8.151446  1.0     15.0\n",
       "babies            7.634399  1.0     15.0\n",
       "bakery            7.868462  1.0     15.0\n",
       "beverages         7.682624  1.0     15.0\n",
       "breakfast         8.068044  1.0     14.9\n",
       "bulk              8.346919  1.4     14.1\n",
       "canned goods      7.546660  1.0     15.0\n",
       "dairy eggs       33.061592  1.0  99999.0\n",
       "deli              7.783347  1.0     15.0\n",
       "dry goods pasta   7.349370  1.0     15.0\n",
       "frozen            7.738627  1.0     15.0\n",
       "household         7.379943  1.0     15.0\n",
       "international     7.678797  1.0     15.0\n",
       "meat seafood     16.300062  8.0     25.0\n",
       "missing           8.660655  1.0     15.0\n",
       "other             6.961995  1.1     15.0\n",
       "pantry            8.014940  1.0     20.0\n",
       "personal care     7.998617  1.0     15.0\n",
       "pets              7.887860  1.0     15.0\n",
       "produce           7.980349  1.0     15.0\n",
       "snacks            4.275555  1.6      7.0"
      ]
     },
     "execution_count": 73,
     "metadata": {},
     "output_type": "execute_result"
    }
   ],
   "source": [
    "# Aggregate the max, mean, and min variables on age group level for expenditure\n",
    "df_exc.groupby('department').agg({'prices': ['mean', 'min', 'max']})"
   ]
  },
  {
   "cell_type": "markdown",
   "id": "6c91ab56-78d0-4dcf-9703-f35b0f00bc00",
   "metadata": {},
   "source": [
    "## Compare customer profiles with regions and departments"
   ]
  },
  {
   "cell_type": "markdown",
   "id": "91b33baf-b5b8-461b-be1c-6f0c13abaa87",
   "metadata": {},
   "source": [
    "### Age by region"
   ]
  },
  {
   "cell_type": "code",
   "execution_count": 149,
   "id": "ed8fcf65-9016-42ac-b921-a207c0573f5c",
   "metadata": {},
   "outputs": [
    {
     "name": "stderr",
     "output_type": "stream",
     "text": [
      "/opt/anaconda3/lib/python3.11/site-packages/seaborn/_oldcore.py:1119: FutureWarning: use_inf_as_na option is deprecated and will be removed in a future version. Convert inf values to NaN before operating instead.\n",
      "  with pd.option_context('mode.use_inf_as_na', True):\n"
     ]
    },
    {
     "data": {
      "image/png": "[encoded data removed]",
      "text/plain": [
       "<Figure size 1000x600 with 1 Axes>"
      ]
     },
     "metadata": {},
     "output_type": "display_data"
    }
   ],
   "source": [
    "plt.figure(figsize = (10, 6))\n",
    "sns.histplot(data = df_exc, x = 'region', hue = 'age_group', multiple = 'dodge', shrink = .8, alpha = 1)\n",
    "plt.gca().set_axisbelow(True)  \n",
    "plt.grid(axis = 'y', color = 'gray', linestyle = 'dashed')\n",
    "plt.title('Distribution of Customer Age Groups by Region')\n",
    "plt.ylabel('Number of Customers')\n",
    "plt.xlabel('Region')\n",
    "plt.savefig(os.path.join(path, '04 Analysis', 'Visualizations', 'customers_age_by_region.png'), bbox_inches = 'tight') \n",
    "plt.show()"
   ]
  },
  {
   "cell_type": "markdown",
   "id": "96a7f64c-733c-4c0d-8c9b-0bc8393ea69f",
   "metadata": {},
   "source": [
    "### Income by region"
   ]
  },
  {
   "cell_type": "code",
   "execution_count": 151,
   "id": "163ced7e-0d4a-49e3-ab57-d41674104ec8",
   "metadata": {},
   "outputs": [
    {
     "name": "stderr",
     "output_type": "stream",
     "text": [
      "/opt/anaconda3/lib/python3.11/site-packages/seaborn/_oldcore.py:1119: FutureWarning: use_inf_as_na option is deprecated and will be removed in a future version. Convert inf values to NaN before operating instead.\n",
      "  with pd.option_context('mode.use_inf_as_na', True):\n"
     ]
    },
    {
     "data": {
      "image/png": "[encoded data removed]",
      "text/plain": [
       "<Figure size 1000x600 with 1 Axes>"
      ]
     },
     "metadata": {},
     "output_type": "display_data"
    }
   ],
   "source": [
    "plt.figure(figsize = (10, 6))\n",
    "sns.histplot(data = df_exc, x = 'region', hue = 'income_group', multiple = 'dodge', shrink = .8, alpha = 1)\n",
    "plt.gca().set_axisbelow(True)  \n",
    "plt.grid(axis = 'y', color = 'gray', linestyle = 'dashed')\n",
    "plt.title('Distribution of Customer Income Groups by Region')\n",
    "plt.ylabel('Number of Customers')\n",
    "plt.xlabel('Region')\n",
    "plt.savefig(os.path.join(path, '04 Analysis', 'Visualizations', 'customers_income_by_region.png'), bbox_inches = 'tight')\n",
    "plt.show()"
   ]
  },
  {
   "cell_type": "markdown",
   "id": "affaaf03-88e1-42b8-ad75-971fd6174562",
   "metadata": {},
   "source": [
    "### Number of dependents by region"
   ]
  },
  {
   "cell_type": "code",
   "execution_count": 155,
   "id": "8ad77a1b-b611-4d1a-b045-fa2cf49f7932",
   "metadata": {},
   "outputs": [
    {
     "name": "stderr",
     "output_type": "stream",
     "text": [
      "/opt/anaconda3/lib/python3.11/site-packages/seaborn/_oldcore.py:1119: FutureWarning: use_inf_as_na option is deprecated and will be removed in a future version. Convert inf values to NaN before operating instead.\n",
      "  with pd.option_context('mode.use_inf_as_na', True):\n"
     ]
    },
    {
     "data": {
      "image/png": "[encoded data removed]",
      "text/plain": [
       "<Figure size 1000x600 with 1 Axes>"
      ]
     },
     "metadata": {},
     "output_type": "display_data"
    }
   ],
   "source": [
    "plt.figure(figsize = (10, 6))\n",
    "sns.histplot(data = df_exc, x = 'region', hue = 'dep_group', multiple = 'dodge', shrink = .8, alpha = 1)\n",
    "plt.gca().set_axisbelow(True)  \n",
    "plt.grid(axis = 'y', color = 'gray', linestyle = 'dashed')\n",
    "plt.title('Distribution of Customers with and without Dependents by Region')\n",
    "plt.ylabel('Number of Customers')\n",
    "plt.xlabel('Region')\n",
    "plt.savefig(os.path.join(path, '04 Analysis', 'Visualizations', 'customers_dependents_by_region.png'), bbox_inches = 'tight')\n",
    "plt.show()"
   ]
  },
  {
   "cell_type": "markdown",
   "id": "e122c3a3-c38c-4d07-9bed-9f10e1c7f6c7",
   "metadata": {},
   "source": [
    "### Departments by region"
   ]
  },
  {
   "cell_type": "code",
   "execution_count": 161,
   "id": "aa9b69c9-1080-4915-940d-6b36b823a2fc",
   "metadata": {},
   "outputs": [],
   "source": [
    "dep_region = pd.crosstab(df_exc['department'], df_exc['region'], dropna = False)"
   ]
  },
  {
   "cell_type": "code",
   "execution_count": 162,
   "id": "e3f2657f-8bfe-4c5c-9c74-19f862af7497",
   "metadata": {},
   "outputs": [
    {
     "data": {
      "text/html": [
       "<div>\n",
       "<style scoped>\n",
       "    .dataframe tbody tr th:only-of-type {\n",
       "        vertical-align: middle;\n",
       "    }\n",
       "\n",
       "    .dataframe tbody tr th {\n",
       "        vertical-align: top;\n",
       "    }\n",
       "\n",
       "    .dataframe thead th {\n",
       "        text-align: right;\n",
       "    }\n",
       "</style>\n",
       "<table border=\"1\" class=\"dataframe\">\n",
       "  <thead>\n",
       "    <tr style=\"text-align: right;\">\n",
       "      <th>region</th>\n",
       "      <th>Midwest</th>\n",
       "      <th>Northeast</th>\n",
       "      <th>South</th>\n",
       "      <th>West</th>\n",
       "    </tr>\n",
       "    <tr>\n",
       "      <th>department</th>\n",
       "      <th></th>\n",
       "      <th></th>\n",
       "      <th></th>\n",
       "      <th></th>\n",
       "    </tr>\n",
       "  </thead>\n",
       "  <tbody>\n",
       "    <tr>\n",
       "      <th>alcohol</th>\n",
       "      <td>34052</td>\n",
       "      <td>25034</td>\n",
       "      <td>48822</td>\n",
       "      <td>36766</td>\n",
       "    </tr>\n",
       "    <tr>\n",
       "      <th>babies</th>\n",
       "      <td>95741</td>\n",
       "      <td>72712</td>\n",
       "      <td>139511</td>\n",
       "      <td>102428</td>\n",
       "    </tr>\n",
       "    <tr>\n",
       "      <th>bakery</th>\n",
       "      <td>262614</td>\n",
       "      <td>200136</td>\n",
       "      <td>373055</td>\n",
       "      <td>289221</td>\n",
       "    </tr>\n",
       "    <tr>\n",
       "      <th>beverages</th>\n",
       "      <td>598990</td>\n",
       "      <td>462931</td>\n",
       "      <td>859435</td>\n",
       "      <td>650578</td>\n",
       "    </tr>\n",
       "    <tr>\n",
       "      <th>breakfast</th>\n",
       "      <td>157781</td>\n",
       "      <td>119327</td>\n",
       "      <td>225539</td>\n",
       "      <td>175448</td>\n",
       "    </tr>\n",
       "    <tr>\n",
       "      <th>bulk</th>\n",
       "      <td>7929</td>\n",
       "      <td>5599</td>\n",
       "      <td>11180</td>\n",
       "      <td>8743</td>\n",
       "    </tr>\n",
       "    <tr>\n",
       "      <th>canned goods</th>\n",
       "      <td>237459</td>\n",
       "      <td>176936</td>\n",
       "      <td>337458</td>\n",
       "      <td>260221</td>\n",
       "    </tr>\n",
       "    <tr>\n",
       "      <th>dairy eggs</th>\n",
       "      <td>1215821</td>\n",
       "      <td>917293</td>\n",
       "      <td>1727823</td>\n",
       "      <td>1330891</td>\n",
       "    </tr>\n",
       "    <tr>\n",
       "      <th>deli</th>\n",
       "      <td>234464</td>\n",
       "      <td>178398</td>\n",
       "      <td>333620</td>\n",
       "      <td>257352</td>\n",
       "    </tr>\n",
       "    <tr>\n",
       "      <th>dry goods pasta</th>\n",
       "      <td>193463</td>\n",
       "      <td>143817</td>\n",
       "      <td>272813</td>\n",
       "      <td>212043</td>\n",
       "    </tr>\n",
       "    <tr>\n",
       "      <th>frozen</th>\n",
       "      <td>498527</td>\n",
       "      <td>370817</td>\n",
       "      <td>710443</td>\n",
       "      <td>543555</td>\n",
       "    </tr>\n",
       "    <tr>\n",
       "      <th>household</th>\n",
       "      <td>166992</td>\n",
       "      <td>124604</td>\n",
       "      <td>230062</td>\n",
       "      <td>178200</td>\n",
       "    </tr>\n",
       "    <tr>\n",
       "      <th>international</th>\n",
       "      <td>60666</td>\n",
       "      <td>44678</td>\n",
       "      <td>84649</td>\n",
       "      <td>65998</td>\n",
       "    </tr>\n",
       "    <tr>\n",
       "      <th>meat seafood</th>\n",
       "      <td>158261</td>\n",
       "      <td>118572</td>\n",
       "      <td>224122</td>\n",
       "      <td>173830</td>\n",
       "    </tr>\n",
       "    <tr>\n",
       "      <th>missing</th>\n",
       "      <td>15563</td>\n",
       "      <td>11512</td>\n",
       "      <td>21787</td>\n",
       "      <td>15906</td>\n",
       "    </tr>\n",
       "    <tr>\n",
       "      <th>other</th>\n",
       "      <td>7983</td>\n",
       "      <td>6268</td>\n",
       "      <td>11579</td>\n",
       "      <td>8581</td>\n",
       "    </tr>\n",
       "    <tr>\n",
       "      <th>pantry</th>\n",
       "      <td>420366</td>\n",
       "      <td>312763</td>\n",
       "      <td>591842</td>\n",
       "      <td>457932</td>\n",
       "    </tr>\n",
       "    <tr>\n",
       "      <th>personal care</th>\n",
       "      <td>100418</td>\n",
       "      <td>74779</td>\n",
       "      <td>142552</td>\n",
       "      <td>106666</td>\n",
       "    </tr>\n",
       "    <tr>\n",
       "      <th>pets</th>\n",
       "      <td>21358</td>\n",
       "      <td>17734</td>\n",
       "      <td>29912</td>\n",
       "      <td>24061</td>\n",
       "    </tr>\n",
       "    <tr>\n",
       "      <th>produce</th>\n",
       "      <td>2134116</td>\n",
       "      <td>1593004</td>\n",
       "      <td>3027478</td>\n",
       "      <td>2324678</td>\n",
       "    </tr>\n",
       "    <tr>\n",
       "      <th>snacks</th>\n",
       "      <td>645143</td>\n",
       "      <td>493154</td>\n",
       "      <td>916780</td>\n",
       "      <td>711329</td>\n",
       "    </tr>\n",
       "  </tbody>\n",
       "</table>\n",
       "</div>"
      ],
      "text/plain": [
       "region           Midwest  Northeast    South     West\n",
       "department                                           \n",
       "alcohol            34052      25034    48822    36766\n",
       "babies             95741      72712   139511   102428\n",
       "bakery            262614     200136   373055   289221\n",
       "beverages         598990     462931   859435   650578\n",
       "breakfast         157781     119327   225539   175448\n",
       "bulk                7929       5599    11180     8743\n",
       "canned goods      237459     176936   337458   260221\n",
       "dairy eggs       1215821     917293  1727823  1330891\n",
       "deli              234464     178398   333620   257352\n",
       "dry goods pasta   193463     143817   272813   212043\n",
       "frozen            498527     370817   710443   543555\n",
       "household         166992     124604   230062   178200\n",
       "international      60666      44678    84649    65998\n",
       "meat seafood      158261     118572   224122   173830\n",
       "missing            15563      11512    21787    15906\n",
       "other               7983       6268    11579     8581\n",
       "pantry            420366     312763   591842   457932\n",
       "personal care     100418      74779   142552   106666\n",
       "pets               21358      17734    29912    24061\n",
       "produce          2134116    1593004  3027478  2324678\n",
       "snacks            645143     493154   916780   711329"
      ]
     },
     "execution_count": 162,
     "metadata": {},
     "output_type": "execute_result"
    }
   ],
   "source": [
    "dep_region"
   ]
  },
  {
   "cell_type": "code",
   "execution_count": 169,
   "id": "50cb1f2d-3ae9-4024-ae14-36a72a76f888",
   "metadata": {},
   "outputs": [
    {
     "data": {
      "image/png": "[encoded data removed]",
      "text/plain": [
       "<Figure size 640x480 with 1 Axes>"
      ]
     },
     "metadata": {},
     "output_type": "display_data"
    }
   ],
   "source": [
    "dep_region_bar = dep_region.plot(kind = 'bar', stacked = True)\n",
    "plt.gca().set_axisbelow(True)\n",
    "plt.grid(axis = 'y', color = 'gray', linestyle = 'dashed')\n",
    "plt.title('Distribution of Department Groups by Region')\n",
    "plt.ylabel('Region')\n",
    "plt.xlabel('Department')\n",
    "dep_region_bar.figure.savefig(os.path.join(path, '04 Analysis','Visualizations', 'departments_by_region.png'),bbox_inches='tight') "
   ]
  },
  {
   "cell_type": "markdown",
   "id": "1eedef8e-bee5-4966-80c9-f1208d0e48f7",
   "metadata": {},
   "source": [
    "### Age by departments"
   ]
  },
  {
   "cell_type": "code",
   "execution_count": 167,
   "id": "b05a19e9-e488-4306-b4d5-1e339ada2144",
   "metadata": {},
   "outputs": [
    {
     "data": {
      "text/html": [
       "<div>\n",
       "<style scoped>\n",
       "    .dataframe tbody tr th:only-of-type {\n",
       "        vertical-align: middle;\n",
       "    }\n",
       "\n",
       "    .dataframe tbody tr th {\n",
       "        vertical-align: top;\n",
       "    }\n",
       "\n",
       "    .dataframe thead th {\n",
       "        text-align: right;\n",
       "    }\n",
       "</style>\n",
       "<table border=\"1\" class=\"dataframe\">\n",
       "  <thead>\n",
       "    <tr style=\"text-align: right;\">\n",
       "      <th>department</th>\n",
       "      <th>alcohol</th>\n",
       "      <th>babies</th>\n",
       "      <th>bakery</th>\n",
       "      <th>beverages</th>\n",
       "      <th>breakfast</th>\n",
       "      <th>bulk</th>\n",
       "      <th>canned goods</th>\n",
       "      <th>dairy eggs</th>\n",
       "      <th>deli</th>\n",
       "      <th>dry goods pasta</th>\n",
       "      <th>...</th>\n",
       "      <th>household</th>\n",
       "      <th>international</th>\n",
       "      <th>meat seafood</th>\n",
       "      <th>missing</th>\n",
       "      <th>other</th>\n",
       "      <th>pantry</th>\n",
       "      <th>personal care</th>\n",
       "      <th>pets</th>\n",
       "      <th>produce</th>\n",
       "      <th>snacks</th>\n",
       "    </tr>\n",
       "    <tr>\n",
       "      <th>age_group</th>\n",
       "      <th></th>\n",
       "      <th></th>\n",
       "      <th></th>\n",
       "      <th></th>\n",
       "      <th></th>\n",
       "      <th></th>\n",
       "      <th></th>\n",
       "      <th></th>\n",
       "      <th></th>\n",
       "      <th></th>\n",
       "      <th></th>\n",
       "      <th></th>\n",
       "      <th></th>\n",
       "      <th></th>\n",
       "      <th></th>\n",
       "      <th></th>\n",
       "      <th></th>\n",
       "      <th></th>\n",
       "      <th></th>\n",
       "      <th></th>\n",
       "      <th></th>\n",
       "    </tr>\n",
       "  </thead>\n",
       "  <tbody>\n",
       "    <tr>\n",
       "      <th>Middle-aged adult</th>\n",
       "      <td>45382</td>\n",
       "      <td>130198</td>\n",
       "      <td>353973</td>\n",
       "      <td>814071</td>\n",
       "      <td>213440</td>\n",
       "      <td>10403</td>\n",
       "      <td>317911</td>\n",
       "      <td>1625883</td>\n",
       "      <td>314654</td>\n",
       "      <td>258535</td>\n",
       "      <td>...</td>\n",
       "      <td>220117</td>\n",
       "      <td>80697</td>\n",
       "      <td>211531</td>\n",
       "      <td>20482</td>\n",
       "      <td>10689</td>\n",
       "      <td>560661</td>\n",
       "      <td>135802</td>\n",
       "      <td>29388</td>\n",
       "      <td>2846302</td>\n",
       "      <td>867386</td>\n",
       "    </tr>\n",
       "    <tr>\n",
       "      <th>Old adult</th>\n",
       "      <td>47630</td>\n",
       "      <td>138738</td>\n",
       "      <td>383651</td>\n",
       "      <td>883680</td>\n",
       "      <td>230205</td>\n",
       "      <td>11424</td>\n",
       "      <td>344447</td>\n",
       "      <td>1767659</td>\n",
       "      <td>343335</td>\n",
       "      <td>280102</td>\n",
       "      <td>...</td>\n",
       "      <td>240636</td>\n",
       "      <td>86448</td>\n",
       "      <td>232753</td>\n",
       "      <td>21787</td>\n",
       "      <td>11604</td>\n",
       "      <td>610017</td>\n",
       "      <td>143775</td>\n",
       "      <td>31757</td>\n",
       "      <td>3104121</td>\n",
       "      <td>940733</td>\n",
       "    </tr>\n",
       "    <tr>\n",
       "      <th>Young adult</th>\n",
       "      <td>51662</td>\n",
       "      <td>141456</td>\n",
       "      <td>387402</td>\n",
       "      <td>874183</td>\n",
       "      <td>234450</td>\n",
       "      <td>11624</td>\n",
       "      <td>349716</td>\n",
       "      <td>1798286</td>\n",
       "      <td>345845</td>\n",
       "      <td>283499</td>\n",
       "      <td>...</td>\n",
       "      <td>239105</td>\n",
       "      <td>88846</td>\n",
       "      <td>230501</td>\n",
       "      <td>22499</td>\n",
       "      <td>12118</td>\n",
       "      <td>612225</td>\n",
       "      <td>144838</td>\n",
       "      <td>31920</td>\n",
       "      <td>3128853</td>\n",
       "      <td>958287</td>\n",
       "    </tr>\n",
       "  </tbody>\n",
       "</table>\n",
       "<p>3 rows × 21 columns</p>\n",
       "</div>"
      ],
      "text/plain": [
       "department         alcohol  babies  bakery  beverages  breakfast   bulk  \\\n",
       "age_group                                                                 \n",
       "Middle-aged adult    45382  130198  353973     814071     213440  10403   \n",
       "Old adult            47630  138738  383651     883680     230205  11424   \n",
       "Young adult          51662  141456  387402     874183     234450  11624   \n",
       "\n",
       "department         canned goods  dairy eggs    deli  dry goods pasta  ...  \\\n",
       "age_group                                                             ...   \n",
       "Middle-aged adult        317911     1625883  314654           258535  ...   \n",
       "Old adult                344447     1767659  343335           280102  ...   \n",
       "Young adult              349716     1798286  345845           283499  ...   \n",
       "\n",
       "department         household  international  meat seafood  missing  other  \\\n",
       "age_group                                                                   \n",
       "Middle-aged adult     220117          80697        211531    20482  10689   \n",
       "Old adult             240636          86448        232753    21787  11604   \n",
       "Young adult           239105          88846        230501    22499  12118   \n",
       "\n",
       "department         pantry  personal care   pets  produce  snacks  \n",
       "age_group                                                         \n",
       "Middle-aged adult  560661         135802  29388  2846302  867386  \n",
       "Old adult          610017         143775  31757  3104121  940733  \n",
       "Young adult        612225         144838  31920  3128853  958287  \n",
       "\n",
       "[3 rows x 21 columns]"
      ]
     },
     "execution_count": 167,
     "metadata": {},
     "output_type": "execute_result"
    }
   ],
   "source": [
    "age_department = pd.crosstab(df_exc['age_group'],df_exc['department'],dropna=False)\n",
    "age_department"
   ]
  },
  {
   "cell_type": "code",
   "execution_count": 181,
   "id": "0972326d-1d6f-4952-8cad-553409721113",
   "metadata": {},
   "outputs": [
    {
     "data": {
      "text/plain": [
       "<Figure size 2500x2500 with 0 Axes>"
      ]
     },
     "metadata": {},
     "output_type": "display_data"
    },
    {
     "data": {
      "image/png": "[encoded data removed]",
      "text/plain": [
       "<Figure size 1400x1000 with 1 Axes>"
      ]
     },
     "metadata": {},
     "output_type": "display_data"
    }
   ],
   "source": [
    "plt.figure(figsize=(25, 25))\n",
    "age_department_bar = age_department.plot(kind = 'bar', figsize = (14, 10), colormap='tab20')\n",
    "plt.title('Age Groups By Department', fontsize = 16)\n",
    "plt.xlabel('Age Group', fontsize = 14)\n",
    "plt.ylabel('Count', fontsize = 14)\n",
    "plt.xticks(fontsize = 12)\n",
    "plt.yticks(fontsize = 12)\n",
    "plt.legend(title = 'Department', bbox_to_anchor = (1.05, 1), loc = 'upper left', fontsize = 12, title_fontsize = 14)\n",
    "plt.grid(True, axis = 'x', linestyle = '--', alpha = 0.7)\n",
    "plt.tight_layout(rect = [0, 0, 0.85, 1])\n",
    "plt.show()\n",
    "age_department_bar.figure.savefig(os.path.join(path,'04 Analysis','Visualizations','age_department_bar.png'))"
   ]
  },
  {
   "cell_type": "markdown",
   "id": "5e85d063-aaa3-4539-9075-564779d21d93",
   "metadata": {},
   "source": [
    "### Income by departments"
   ]
  },
  {
   "cell_type": "code",
   "execution_count": 183,
   "id": "061f58cb-7d85-42a3-b835-4d71becd34f6",
   "metadata": {},
   "outputs": [
    {
     "data": {
      "text/html": [
       "<div>\n",
       "<style scoped>\n",
       "    .dataframe tbody tr th:only-of-type {\n",
       "        vertical-align: middle;\n",
       "    }\n",
       "\n",
       "    .dataframe tbody tr th {\n",
       "        vertical-align: top;\n",
       "    }\n",
       "\n",
       "    .dataframe thead th {\n",
       "        text-align: right;\n",
       "    }\n",
       "</style>\n",
       "<table border=\"1\" class=\"dataframe\">\n",
       "  <thead>\n",
       "    <tr style=\"text-align: right;\">\n",
       "      <th>department</th>\n",
       "      <th>alcohol</th>\n",
       "      <th>babies</th>\n",
       "      <th>bakery</th>\n",
       "      <th>beverages</th>\n",
       "      <th>breakfast</th>\n",
       "      <th>bulk</th>\n",
       "      <th>canned goods</th>\n",
       "      <th>dairy eggs</th>\n",
       "      <th>deli</th>\n",
       "      <th>dry goods pasta</th>\n",
       "      <th>...</th>\n",
       "      <th>household</th>\n",
       "      <th>international</th>\n",
       "      <th>meat seafood</th>\n",
       "      <th>missing</th>\n",
       "      <th>other</th>\n",
       "      <th>pantry</th>\n",
       "      <th>personal care</th>\n",
       "      <th>pets</th>\n",
       "      <th>produce</th>\n",
       "      <th>snacks</th>\n",
       "    </tr>\n",
       "    <tr>\n",
       "      <th>income_group</th>\n",
       "      <th></th>\n",
       "      <th></th>\n",
       "      <th></th>\n",
       "      <th></th>\n",
       "      <th></th>\n",
       "      <th></th>\n",
       "      <th></th>\n",
       "      <th></th>\n",
       "      <th></th>\n",
       "      <th></th>\n",
       "      <th></th>\n",
       "      <th></th>\n",
       "      <th></th>\n",
       "      <th></th>\n",
       "      <th></th>\n",
       "      <th></th>\n",
       "      <th></th>\n",
       "      <th></th>\n",
       "      <th></th>\n",
       "      <th></th>\n",
       "      <th></th>\n",
       "    </tr>\n",
       "  </thead>\n",
       "  <tbody>\n",
       "    <tr>\n",
       "      <th>High income</th>\n",
       "      <td>69178</td>\n",
       "      <td>196704</td>\n",
       "      <td>529073</td>\n",
       "      <td>1126477</td>\n",
       "      <td>300675</td>\n",
       "      <td>14218</td>\n",
       "      <td>485253</td>\n",
       "      <td>2412803</td>\n",
       "      <td>462099</td>\n",
       "      <td>392731</td>\n",
       "      <td>...</td>\n",
       "      <td>319960</td>\n",
       "      <td>119991</td>\n",
       "      <td>335553</td>\n",
       "      <td>29455</td>\n",
       "      <td>15750</td>\n",
       "      <td>840027</td>\n",
       "      <td>193475</td>\n",
       "      <td>45090</td>\n",
       "      <td>4237005</td>\n",
       "      <td>1104601</td>\n",
       "    </tr>\n",
       "    <tr>\n",
       "      <th>Low income</th>\n",
       "      <td>18050</td>\n",
       "      <td>29240</td>\n",
       "      <td>108186</td>\n",
       "      <td>383123</td>\n",
       "      <td>92308</td>\n",
       "      <td>4676</td>\n",
       "      <td>78975</td>\n",
       "      <td>503429</td>\n",
       "      <td>106448</td>\n",
       "      <td>64481</td>\n",
       "      <td>...</td>\n",
       "      <td>87216</td>\n",
       "      <td>21636</td>\n",
       "      <td>34278</td>\n",
       "      <td>6547</td>\n",
       "      <td>3886</td>\n",
       "      <td>166128</td>\n",
       "      <td>47794</td>\n",
       "      <td>8613</td>\n",
       "      <td>826314</td>\n",
       "      <td>559529</td>\n",
       "    </tr>\n",
       "    <tr>\n",
       "      <th>Middle income</th>\n",
       "      <td>57446</td>\n",
       "      <td>184448</td>\n",
       "      <td>487767</td>\n",
       "      <td>1062334</td>\n",
       "      <td>285112</td>\n",
       "      <td>14557</td>\n",
       "      <td>447846</td>\n",
       "      <td>2275596</td>\n",
       "      <td>435287</td>\n",
       "      <td>364924</td>\n",
       "      <td>...</td>\n",
       "      <td>292682</td>\n",
       "      <td>114364</td>\n",
       "      <td>304954</td>\n",
       "      <td>28766</td>\n",
       "      <td>14775</td>\n",
       "      <td>776748</td>\n",
       "      <td>183146</td>\n",
       "      <td>39362</td>\n",
       "      <td>4015957</td>\n",
       "      <td>1102276</td>\n",
       "    </tr>\n",
       "  </tbody>\n",
       "</table>\n",
       "<p>3 rows × 21 columns</p>\n",
       "</div>"
      ],
      "text/plain": [
       "department     alcohol  babies  bakery  beverages  breakfast   bulk  \\\n",
       "income_group                                                          \n",
       "High income      69178  196704  529073    1126477     300675  14218   \n",
       "Low income       18050   29240  108186     383123      92308   4676   \n",
       "Middle income    57446  184448  487767    1062334     285112  14557   \n",
       "\n",
       "department     canned goods  dairy eggs    deli  dry goods pasta  ...  \\\n",
       "income_group                                                      ...   \n",
       "High income          485253     2412803  462099           392731  ...   \n",
       "Low income            78975      503429  106448            64481  ...   \n",
       "Middle income        447846     2275596  435287           364924  ...   \n",
       "\n",
       "department     household  international  meat seafood  missing  other  pantry  \\\n",
       "income_group                                                                    \n",
       "High income       319960         119991        335553    29455  15750  840027   \n",
       "Low income         87216          21636         34278     6547   3886  166128   \n",
       "Middle income     292682         114364        304954    28766  14775  776748   \n",
       "\n",
       "department     personal care   pets  produce   snacks  \n",
       "income_group                                           \n",
       "High income           193475  45090  4237005  1104601  \n",
       "Low income             47794   8613   826314   559529  \n",
       "Middle income         183146  39362  4015957  1102276  \n",
       "\n",
       "[3 rows x 21 columns]"
      ]
     },
     "execution_count": 183,
     "metadata": {},
     "output_type": "execute_result"
    }
   ],
   "source": [
    "income_department = pd.crosstab(df_exc['income_group'],df_exc['department'],dropna=False)\n",
    "income_department"
   ]
  },
  {
   "cell_type": "code",
   "execution_count": 185,
   "id": "65134e62-9ea1-4995-bfff-753e44e85e7f",
   "metadata": {},
   "outputs": [
    {
     "data": {
      "text/plain": [
       "<Figure size 1800x1200 with 0 Axes>"
      ]
     },
     "metadata": {},
     "output_type": "display_data"
    },
    {
     "data": {
      "image/png": "[encoded data removed]",
      "text/plain": [
       "<Figure size 1400x1000 with 1 Axes>"
      ]
     },
     "metadata": {},
     "output_type": "display_data"
    }
   ],
   "source": [
    "plt.figure(figsize = (18, 12))\n",
    "income_department_bar = income_department.plot(kind = 'bar', figsize = (14, 10), colormap='tab20')\n",
    "plt.title('Income Groups By Department', fontsize = 16)\n",
    "plt.xlabel('Count', fontsize = 14)\n",
    "plt.ylabel('Income Group', fontsize = 14)\n",
    "plt.xticks(fontsize = 12)\n",
    "plt.yticks(fontsize = 12)\n",
    "plt.legend(title = 'Department', bbox_to_anchor = (1.05, 1), loc = 'upper left', fontsize = 12, title_fontsize = 14)\n",
    "plt.grid(True, axis = 'x', linestyle = '--', alpha = 0.7)\n",
    "plt.tight_layout(rect = [0, 0, 0.85, 1])\n",
    "plt.show()\n",
    "income_department_bar.figure.savefig(os.path.join(path,'04 Analysis','Visualizations','income_department_bar.png'))"
   ]
  },
  {
   "cell_type": "markdown",
   "id": "2b7224b2-2972-46bb-95bc-ad0215bd0748",
   "metadata": {},
   "source": [
    "### Number of dependents by departments"
   ]
  },
  {
   "cell_type": "code",
   "execution_count": 187,
   "id": "aaa22bf5-6699-4ea3-8be8-f60847026b35",
   "metadata": {},
   "outputs": [
    {
     "data": {
      "text/html": [
       "<div>\n",
       "<style scoped>\n",
       "    .dataframe tbody tr th:only-of-type {\n",
       "        vertical-align: middle;\n",
       "    }\n",
       "\n",
       "    .dataframe tbody tr th {\n",
       "        vertical-align: top;\n",
       "    }\n",
       "\n",
       "    .dataframe thead th {\n",
       "        text-align: right;\n",
       "    }\n",
       "</style>\n",
       "<table border=\"1\" class=\"dataframe\">\n",
       "  <thead>\n",
       "    <tr style=\"text-align: right;\">\n",
       "      <th>department</th>\n",
       "      <th>alcohol</th>\n",
       "      <th>babies</th>\n",
       "      <th>bakery</th>\n",
       "      <th>beverages</th>\n",
       "      <th>breakfast</th>\n",
       "      <th>bulk</th>\n",
       "      <th>canned goods</th>\n",
       "      <th>dairy eggs</th>\n",
       "      <th>deli</th>\n",
       "      <th>dry goods pasta</th>\n",
       "      <th>...</th>\n",
       "      <th>household</th>\n",
       "      <th>international</th>\n",
       "      <th>meat seafood</th>\n",
       "      <th>missing</th>\n",
       "      <th>other</th>\n",
       "      <th>pantry</th>\n",
       "      <th>personal care</th>\n",
       "      <th>pets</th>\n",
       "      <th>produce</th>\n",
       "      <th>snacks</th>\n",
       "    </tr>\n",
       "    <tr>\n",
       "      <th>dep_group</th>\n",
       "      <th></th>\n",
       "      <th></th>\n",
       "      <th></th>\n",
       "      <th></th>\n",
       "      <th></th>\n",
       "      <th></th>\n",
       "      <th></th>\n",
       "      <th></th>\n",
       "      <th></th>\n",
       "      <th></th>\n",
       "      <th></th>\n",
       "      <th></th>\n",
       "      <th></th>\n",
       "      <th></th>\n",
       "      <th></th>\n",
       "      <th></th>\n",
       "      <th></th>\n",
       "      <th></th>\n",
       "      <th></th>\n",
       "      <th></th>\n",
       "      <th></th>\n",
       "    </tr>\n",
       "  </thead>\n",
       "  <tbody>\n",
       "    <tr>\n",
       "      <th>has_dependents</th>\n",
       "      <td>107822</td>\n",
       "      <td>307064</td>\n",
       "      <td>842540</td>\n",
       "      <td>1926585</td>\n",
       "      <td>509770</td>\n",
       "      <td>25451</td>\n",
       "      <td>761054</td>\n",
       "      <td>3893613</td>\n",
       "      <td>750452</td>\n",
       "      <td>617840</td>\n",
       "      <td>...</td>\n",
       "      <td>528500</td>\n",
       "      <td>191530</td>\n",
       "      <td>508906</td>\n",
       "      <td>48833</td>\n",
       "      <td>25697</td>\n",
       "      <td>1338937</td>\n",
       "      <td>318180</td>\n",
       "      <td>69463</td>\n",
       "      <td>6803834</td>\n",
       "      <td>2075968</td>\n",
       "    </tr>\n",
       "    <tr>\n",
       "      <th>no_dependents</th>\n",
       "      <td>36852</td>\n",
       "      <td>103328</td>\n",
       "      <td>282486</td>\n",
       "      <td>645349</td>\n",
       "      <td>168325</td>\n",
       "      <td>8000</td>\n",
       "      <td>251020</td>\n",
       "      <td>1298215</td>\n",
       "      <td>253382</td>\n",
       "      <td>204296</td>\n",
       "      <td>...</td>\n",
       "      <td>171358</td>\n",
       "      <td>64461</td>\n",
       "      <td>165879</td>\n",
       "      <td>15935</td>\n",
       "      <td>8714</td>\n",
       "      <td>443966</td>\n",
       "      <td>106235</td>\n",
       "      <td>23602</td>\n",
       "      <td>2275442</td>\n",
       "      <td>690438</td>\n",
       "    </tr>\n",
       "  </tbody>\n",
       "</table>\n",
       "<p>2 rows × 21 columns</p>\n",
       "</div>"
      ],
      "text/plain": [
       "department      alcohol  babies  bakery  beverages  breakfast   bulk  \\\n",
       "dep_group                                                              \n",
       "has_dependents   107822  307064  842540    1926585     509770  25451   \n",
       "no_dependents     36852  103328  282486     645349     168325   8000   \n",
       "\n",
       "department      canned goods  dairy eggs    deli  dry goods pasta  ...  \\\n",
       "dep_group                                                          ...   \n",
       "has_dependents        761054     3893613  750452           617840  ...   \n",
       "no_dependents         251020     1298215  253382           204296  ...   \n",
       "\n",
       "department      household  international  meat seafood  missing  other  \\\n",
       "dep_group                                                                \n",
       "has_dependents     528500         191530        508906    48833  25697   \n",
       "no_dependents      171358          64461        165879    15935   8714   \n",
       "\n",
       "department       pantry  personal care   pets  produce   snacks  \n",
       "dep_group                                                        \n",
       "has_dependents  1338937         318180  69463  6803834  2075968  \n",
       "no_dependents    443966         106235  23602  2275442   690438  \n",
       "\n",
       "[2 rows x 21 columns]"
      ]
     },
     "execution_count": 187,
     "metadata": {},
     "output_type": "execute_result"
    }
   ],
   "source": [
    "dependents_department = pd.crosstab(df_exc['dep_group'],df_exc['department'],dropna=False)\n",
    "dependents_department"
   ]
  },
  {
   "cell_type": "code",
   "execution_count": 189,
   "id": "1db23729-159c-45ee-8579-2a83e5238b58",
   "metadata": {
    "scrolled": true
   },
   "outputs": [
    {
     "data": {
      "text/plain": [
       "<Figure size 1800x1200 with 0 Axes>"
      ]
     },
     "metadata": {},
     "output_type": "display_data"
    },
    {
     "data": {
      "image/png": "[encoded data removed]",
      "text/plain": [
       "<Figure size 1400x1000 with 1 Axes>"
      ]
     },
     "metadata": {},
     "output_type": "display_data"
    }
   ],
   "source": [
    "plt.figure(figsize = (18, 12))\n",
    "dependents_department_bar = dependents_department.plot(kind = 'bar', figsize = (14, 10), colormap='tab20')\n",
    "plt.title('Dependents Group By Department', fontsize = 16)\n",
    "plt.xlabel('Count', fontsize = 14)\n",
    "plt.ylabel('Dependents Group', fontsize = 14)\n",
    "plt.xticks(fontsize = 12)\n",
    "plt.yticks(fontsize = 12)\n",
    "plt.legend(title = 'Department', bbox_to_anchor = (1.05, 1), loc = 'upper left', fontsize = 12, title_fontsize = 14)\n",
    "plt.grid(True, axis = 'x', linestyle = '--', alpha = 0.7)\n",
    "plt.tight_layout(rect = [0, 0, 0.85, 1])\n",
    "plt.show()\n",
    "dependents_department_bar.figure.savefig(os.path.join(path,'04 Analysis','Visualizations','dependents_department_bar.png'))"
   ]
  }
 ],
 "metadata": {
  "kernelspec": {
   "display_name": "Python 3 (ipykernel)",
   "language": "python",
   "name": "python3"
  },
  "language_info": {
   "codemirror_mode": {
    "name": "ipython",
    "version": 3
   },
   "file_extension": ".py",
   "mimetype": "text/x-python",
   "name": "python",
   "nbconvert_exporter": "python",
   "pygments_lexer": "ipython3",
   "version": "3.11.7"
  }
 },
 "nbformat": 4,
 "nbformat_minor": 5
}
